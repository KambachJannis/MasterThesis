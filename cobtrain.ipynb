{
 "cells": [
  {
   "cell_type": "code",
   "execution_count": 1,
   "id": "eaede726-966c-47cc-83be-70e9013bcf4f",
   "metadata": {},
   "outputs": [],
   "source": [
    "import helpers.cob.cobtrain as cobtrain"
   ]
  },
  {
   "cell_type": "code",
   "execution_count": 2,
   "id": "147fed76-2b79-4ca9-82da-d64a666f35ea",
   "metadata": {},
   "outputs": [],
   "source": [
    "cfg = {\n",
    "    'images': \"/home/jovyan/work/ma/helpers/cob/pascal-voc/VOC2012\",\n",
    "    'segments': \"/home/jovyan/work/ma/helpers/cob/trainval\",\n",
    "    'run': \"/home/jovyan/work/ma/helpers/cob/runs/cob\",\n",
    "    'lr': 1e-4,\n",
    "    'decay': 2e-4,\n",
    "    'momentum': 0.9,\n",
    "    'epochs-div-lr': 6,\n",
    "    'epochs': 10,\n",
    "    'aug-n-angles': 4,\n",
    "}"
   ]
  },
  {
   "cell_type": "code",
   "execution_count": null,
   "id": "95d0374d-9d04-424d-a65f-07bcf405df0c",
   "metadata": {},
   "outputs": [
    {
     "name": "stderr",
     "output_type": "stream",
     "text": [
      "  0%|          | 0/225 [00:00<?, ?it/s]"
     ]
    },
    {
     "name": "stdout",
     "output_type": "stream",
     "text": [
      "creating new model\n",
      "epoch 1/10, mode: fs, lr: 1.00e-04\n"
     ]
    },
    {
     "name": "stderr",
     "output_type": "stream",
     "text": [
      "[train] loss 9.012e-02:  24%|██▍       | 54/225 [00:47<02:38,  1.08it/s]"
     ]
    }
   ],
   "source": [
    "cobtrain.initRetrain(cfg)"
   ]
  },
  {
   "cell_type": "code",
   "execution_count": null,
   "id": "0b7b84fc-4812-410a-8781-406295063571",
   "metadata": {},
   "outputs": [],
   "source": []
  }
 ],
 "metadata": {
  "kernelspec": {
   "display_name": "Python 3",
   "language": "python",
   "name": "python3"
  },
  "language_info": {
   "codemirror_mode": {
    "name": "ipython",
    "version": 3
   },
   "file_extension": ".py",
   "mimetype": "text/x-python",
   "name": "python",
   "nbconvert_exporter": "python",
   "pygments_lexer": "ipython3",
   "version": "3.8.5"
  }
 },
 "nbformat": 4,
 "nbformat_minor": 5
}
