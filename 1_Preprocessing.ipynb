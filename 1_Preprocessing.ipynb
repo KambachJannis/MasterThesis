{
 "cells": [
  {
   "cell_type": "markdown",
   "id": "7b09563f-8a29-483d-9664-280c0d6b1de7",
   "metadata": {},
   "source": [
    "# PREPROCESSING\n",
    "\n",
    "The purpose of this Notebook is to split all 1km x 1km regions stored as .tif-files into smaller tiles that are suitable as network inputs. Tiles will be saved as .jpg-images in a new folder along with point-labels and shape-labels as .npy-files.\n",
    "\n",
    "The final structure of the output folder will look like this:\n",
    "\n",
    "Folder name: **512x512** (width x hight of tiles) \n",
    "- **images**: contains individual tiles as .jpg-images with name {region name} _ {tile number}.jpg \n",
    "- **points_trees / points_trees**: point-labels as .npy-files, matched via filename\n",
    "- **shapes_trees / shapes_buildings**: shape-labels as .npy-files, matched via filename\n",
    "- **image_sets_trees / image_sets_buildings**: contains a .txt-file for each split (train, val, test) with the filenames of the assigned tiles\n",
    "   "
   ]
  },
  {
   "cell_type": "code",
   "execution_count": 1,
   "id": "946fe04f-b812-4510-8c35-853d70215e25",
   "metadata": {},
   "outputs": [],
   "source": [
    "import os\n",
    "import math\n",
    "import fiona\n",
    "import numpy as np\n",
    "import pandas as pd\n",
    "from PIL import Image\n",
    "from tqdm.notebook import tqdm\n",
    "import rasterio as rio\n",
    "from shapely.geometry import Point, Polygon"
   ]
  },
  {
   "cell_type": "markdown",
   "id": "38bad5f5-3e52-4db1-a5a5-c142b204cf6d",
   "metadata": {},
   "source": [
    "## Get all Images and Label-Files from Directory"
   ]
  },
  {
   "cell_type": "code",
   "execution_count": 2,
   "id": "910883d4-089f-4e40-9050-8006e906894a",
   "metadata": {},
   "outputs": [
    {
     "name": "stdout",
     "output_type": "stream",
     "text": [
      "Found 85 Regions and 1 Label-Files\n"
     ]
    }
   ],
   "source": [
    "DATA_PATH = \"/home/jovyan/work/satellite_data/jannis/Denmark SDFE\"\n",
    "SAVE_PATH = \"/home/jovyan/work/processed\"\n",
    "\n",
    "IMAGES_DIR = \"normal_orto\"\n",
    "IMAGETYPE = \".tif\"\n",
    "\n",
    "regions = []\n",
    "PATH = os.path.join(DATA_PATH, IMAGES_DIR)\n",
    "for _, _, files in os.walk(PATH):\n",
    "    for file in files:\n",
    "        if file.endswith(IMAGETYPE):\n",
    "            regions.append(file)\n",
    "            \n",
    "DATA_TREES_POINTS = \"/home/jovyan/work/DENMARK/85blocks_trees.shp\" #\"trees_vector/85blocks_trees.shp\"\n",
    "DATA_TREES_SHAPES = \"/home/jovyan/work/DENMARK/85blocks_trees_shapes.shp\"\n",
    "DATA_BUILDINGS = \"buildings_vector/bygninger_2017_uden_kolonihavn.shp\"\n",
    "labels = [os.path.join(DATA_PATH, DATA_BUILDINGS)]\n",
    "            \n",
    "print(f\"Found {len(regions)} Regions and {len(labels)} Label-Files\")"
   ]
  },
  {
   "cell_type": "markdown",
   "id": "6943eb38-f248-47b8-8130-9d18012b51e4",
   "metadata": {},
   "source": [
    "## Set Tile Size and Overlap\n",
    "\n",
    "To ensure equal tile sizes, overap is computed dynamically based on the amount of vertical and horizontal tiles. When executing this cell, make sure that a number of tiles is selected, that ensures sufficient overlap between the images."
   ]
  },
  {
   "cell_type": "code",
   "execution_count": 3,
   "id": "93f0756c-183d-46ba-a8ab-7ef735357e2e",
   "metadata": {},
   "outputs": [
    {
     "name": "stdout",
     "output_type": "stream",
     "text": [
      "Generating 1600 tiles per region with: \n",
      " - tile size: 256 x 256 px \n",
      " - region size: 8000 x 8000 px \n",
      " - vertical overlap: 57.43589743589744 px \n",
      " - horizontal overlap: 57.43589743589744 px\n"
     ]
    }
   ],
   "source": [
    "tiles_h = 40\n",
    "tiles_v = 40\n",
    "width = 256\n",
    "height = 256\n",
    "\n",
    "example_src = rio.open(os.path.join(PATH, regions[0]))\n",
    "ncols, nrows = example_src.meta['width'], example_src.meta['height']\n",
    "h_overlap = ((tiles_h * width) - ncols) / (tiles_h - 1)\n",
    "v_overlap = ((tiles_v * height) - nrows) / (tiles_v - 1)\n",
    "\n",
    "print(f\"Generating {tiles_h * tiles_v} tiles per region with: \\n - tile size: {width} x {height} px \\n - region size: {ncols} x {nrows} px \\n - vertical overlap: {v_overlap} px \\n - horizontal overlap: {h_overlap} px\")"
   ]
  },
  {
   "cell_type": "markdown",
   "id": "cd68b600-7947-44d3-88df-cc87334780ff",
   "metadata": {},
   "source": [
    "## Load Shapes and Points\n",
    "\n",
    "Fiona loads shapefile data and groups points and polygons into two separate dataframes. Dataframes are used due to their built-in efficient selection and function-application methods."
   ]
  },
  {
   "cell_type": "code",
   "execution_count": 4,
   "id": "9321d1d6-81d1-4731-a1dd-19c1d89db5b1",
   "metadata": {},
   "outputs": [
    {
     "data": {
      "application/vnd.jupyter.widget-view+json": {
       "model_id": "40fa25c056604acca42eb31ca0c27e22",
       "version_major": 2,
       "version_minor": 0
      },
      "text/plain": [
       "  0%|          | 0/118842 [00:00<?, ?it/s]"
      ]
     },
     "metadata": {},
     "output_type": "display_data"
    },
    {
     "name": "stdout",
     "output_type": "stream",
     "text": [
      "Found 0 Point Labels and 118842 Shape Labels\n"
     ]
    }
   ],
   "source": [
    "point_labels = []\n",
    "shape_labels = []\n",
    "for file in labels:\n",
    "    with fiona.open(file) as shapefile:\n",
    "        for feature in tqdm(shapefile):\n",
    "            if feature['geometry']['type'] == \"Point\":\n",
    "                point = feature[\"geometry\"]['coordinates'][:2]\n",
    "                x = point[0]\n",
    "                y = point[1]\n",
    "                point_labels.append([Point(point), x, y])\n",
    "            elif feature['geometry']['type'] == \"Polygon\":\n",
    "                shape = feature[\"geometry\"]['coordinates'][0]\n",
    "                poly = Polygon(shape)\n",
    "                shape_labels.append([poly])\n",
    "        \n",
    "point_labels = pd.DataFrame(data=point_labels, columns=[\"Point\", \"X\", \"Y\"])\n",
    "shape_labels = pd.DataFrame(data=shape_labels, columns=[\"Shape\"])\n",
    "print(f\"Found {len(point_labels)} Point Labels and {len(shape_labels)} Shape Labels\")"
   ]
  },
  {
   "cell_type": "markdown",
   "id": "a9f5bd51-25f4-4ff7-8dbc-360bdcd1cbc8",
   "metadata": {},
   "source": [
    "## Collection Generator FOR TREES\n",
    "\n",
    "The outer loop iterates over the different regions, the inner loop constructs the tiles. Tiles are saved as a dictionary to a list. Checkpoints are saved every 10 regions so that the list can be cleared - this checkpoint interval can be tuned according to the available memory.\n",
    "\n",
    "Both shapes and points dataframe need to be filled for this cell to work correctly."
   ]
  },
  {
   "cell_type": "code",
   "execution_count": null,
   "id": "0f230e4a-d5a4-4c7c-bcb6-f572c043e4fc",
   "metadata": {},
   "outputs": [],
   "source": [
    "collection = []\n",
    "counter = 0\n",
    "checkpoint = 10\n",
    "\n",
    "for region in tqdm(regions):\n",
    "    src = rio.open(os.path.join(PATH, region))\n",
    "    name_clean = region.replace(\".tif\",\"\")\n",
    "    \n",
    "    # region as window and shapely polygon\n",
    "    ncols, nrows = src.meta['width'], src.meta['height']\n",
    "    bounds = list(src.bounds)\n",
    "    big_window = rio.windows.Window(col_off = 0, row_off = 0, width = ncols, height = nrows)\n",
    "    big_poly = Polygon([(bounds[0], bounds[1]), (bounds[2], bounds[1]), (bounds[2], bounds[3]), (bounds[0], bounds[3])])\n",
    "    \n",
    "    # filter X and Y\n",
    "    region_points = point_labels[point_labels['Point'].apply(lambda p: p.within(big_poly))].copy()\n",
    "    region_shapes = shape_labels[shape_labels['Shape'].apply(lambda s: s.intersects(big_poly))].copy()\n",
    "    \n",
    "    # cut shapes to region bounds\n",
    "    region_shapes['Shape'] = region_shapes['Shape'].apply(lambda s: s.intersection(big_poly))\n",
    "    region_shapes['Shape'] = region_shapes['Shape'].apply(lambda s: s if s.geom_type != 'MultiPolygon' else list(s))\n",
    "    region_shapes = region_shapes.explode('Shape')\n",
    "    region_shapes['Type'] = region_shapes['Shape'].apply(lambda s: s.geom_type)\n",
    "    region_shapes = region_shapes[region_shapes['Type'] == 'Polygon']\n",
    "    region_shapes['ShapeX'] = region_shapes['Shape'].apply(lambda s: s.exterior.coords.xy[0])\n",
    "    region_shapes['ShapeY'] = region_shapes['Shape'].apply(lambda s: s.exterior.coords.xy[1])\n",
    "    \n",
    "    # translate to pixels\n",
    "    region_points['X'] = region_points['X'].apply(lambda x: (x - bounds[0])*8)\n",
    "    region_points['Y'] = region_points['Y'].apply(lambda y: (1000 - (y - bounds[1]))*8)\n",
    "    region_points['Point'] = list(zip(region_points.X, region_points.Y))\n",
    "    region_shapes['ShapeX'] = region_shapes['ShapeX'].apply(lambda lx: [(x - bounds[0])*8 for x in lx])\n",
    "    region_shapes['ShapeY'] = region_shapes['ShapeY'].apply(lambda ly: [(1000 - (y - bounds[1]))*8 for y in ly])\n",
    "    region_shapes['Shape'] = list(zip(region_shapes.ShapeX, region_shapes.ShapeY))\n",
    "    region_shapes['Shape'] = region_shapes['Shape'].apply(lambda t: list(zip(t[0], t[1])))\n",
    "    \n",
    "    # traverse tiles column bv column, row by row\n",
    "    for row in tqdm(range(tiles_v)):\n",
    "        row_off = int(row * (height - v_overlap))\n",
    "        for col in range(tiles_v):\n",
    "            col_off = int(col * (width - h_overlap))\n",
    "            # define tile bounds\n",
    "            tile_window = rio.windows.Window(col_off = col_off, row_off = row_off, width = width, height = height).intersection(big_window)\n",
    "            tile_poly = Polygon([(col_off, row_off), (col_off+width, row_off), (col_off+width, row_off+height), (col_off, row_off+height)])\n",
    "            # read image\n",
    "            src_image = src.read(window = tile_window)[:3]\n",
    "            image = np.stack((src_image[0], src_image[1], src_image[2]), axis = 2)\n",
    "            # get points and shapes in tile \n",
    "            tile_points = region_points[region_points['Point'].apply(lambda p: Point(p).within(tile_poly))].copy()\n",
    "            tile_shapes = region_shapes[region_shapes['Shape'].apply(lambda s: Polygon(s).intersects(tile_poly))].copy()\n",
    "            #cut to tile bounds\n",
    "            tile_shapes['Shape'] = tile_shapes['Shape'].apply(lambda s: Polygon(s).intersection(tile_poly))\n",
    "            tile_shapes['Shape'] = tile_shapes['Shape'].apply(lambda s: s if s.geom_type != 'MultiPolygon' else list(s))\n",
    "            tile_shapes = tile_shapes.explode('Shape')\n",
    "            tile_shapes['Type'] = tile_shapes['Shape'].apply(lambda s: s.geom_type)\n",
    "            tile_shapes = tile_shapes[tile_shapes['Type'] == 'Polygon']\n",
    "            tile_shapes['ShapeX'] = tile_shapes['Shape'].apply(lambda s: s.exterior.coords.xy[0])\n",
    "            tile_shapes['ShapeY'] = tile_shapes['Shape'].apply(lambda s: s.exterior.coords.xy[1])\n",
    "            # translate to new dimensions\n",
    "            tile_points['X'] = tile_points['X'].apply(lambda x: round(x - col_off))\n",
    "            tile_points['Y'] = tile_points['Y'].apply(lambda y: round(y - row_off))\n",
    "            tile_shapes['ShapeX'] = tile_shapes['ShapeX'].apply(lambda lx: [round(x - col_off) for x in lx])\n",
    "            tile_shapes['ShapeY'] = tile_shapes['ShapeY'].apply(lambda ly: [round(y - row_off) for y in ly])\n",
    "            # put shape coordinates together\n",
    "            tile_shapes['pShape'] = list(zip(tile_shapes.ShapeX, tile_shapes.ShapeY))\n",
    "            tile_shapes['pShape'] = tile_shapes['pShape'].apply(lambda t: list(zip(t[0], t[1])))\n",
    "            # to Numpy\n",
    "            np_points = tile_points[['X', 'Y']].to_numpy()\n",
    "            np_shapes = tile_shapes['pShape'].to_numpy()\n",
    "            # add to collection\n",
    "            collection.append({\"file\": name_clean, \"tile\": str(col + (row * tiles_v) + 1), \"image\": image, \"points\": np_points, \"npoints\": len(np_points), \"shapes\": np_shapes, \"nshapes\": len(np_shapes)})\n",
    "            \n",
    "    if counter != 0 and counter % checkpoint == 0 :\n",
    "        print(f\"Saving checkpoint at {counter}\")\n",
    "        np.save(os.path.join(SAVE_PATH, \"checkpoint_\"+str(counter)), collection)\n",
    "        collection = []\n",
    "        \n",
    "    counter += 1\n",
    "\n",
    "np.save(os.path.join(SAVE_PATH, \"checkpoint_\"+str(counter)), collection)\n",
    "print(f\"Generated Collection...\")"
   ]
  },
  {
   "cell_type": "markdown",
   "id": "4fd4b910-b4dc-4f48-a43a-04f7db7b4d72",
   "metadata": {},
   "source": [
    "## Collection Generator FOR BUILDINGS\n",
    "\n",
    "This cell differs from the previous one in that point-labels are not loaded from the dataframe above but inferred as reference points from the shapes. Output is the same."
   ]
  },
  {
   "cell_type": "code",
   "execution_count": 5,
   "id": "980c7cd5-209f-44cc-9ee3-c2bda3442f8e",
   "metadata": {},
   "outputs": [
    {
     "data": {
      "application/vnd.jupyter.widget-view+json": {
       "model_id": "7cf876248d1c4088944f0ac564ed290a",
       "version_major": 2,
       "version_minor": 0
      },
      "text/plain": [
       "  0%|          | 0/85 [00:00<?, ?it/s]"
      ]
     },
     "metadata": {},
     "output_type": "display_data"
    },
    {
     "data": {
      "application/vnd.jupyter.widget-view+json": {
       "model_id": "bddbe3f7962d4416a98048ec42b826d2",
       "version_major": 2,
       "version_minor": 0
      },
      "text/plain": [
       "  0%|          | 0/40 [00:00<?, ?it/s]"
      ]
     },
     "metadata": {},
     "output_type": "display_data"
    },
    {
     "data": {
      "application/vnd.jupyter.widget-view+json": {
       "model_id": "7611e48f39724845abb10714297bbf6e",
       "version_major": 2,
       "version_minor": 0
      },
      "text/plain": [
       "  0%|          | 0/40 [00:00<?, ?it/s]"
      ]
     },
     "metadata": {},
     "output_type": "display_data"
    },
    {
     "data": {
      "application/vnd.jupyter.widget-view+json": {
       "model_id": "0e97012a972e49ad816810dc4eead7a2",
       "version_major": 2,
       "version_minor": 0
      },
      "text/plain": [
       "  0%|          | 0/40 [00:00<?, ?it/s]"
      ]
     },
     "metadata": {},
     "output_type": "display_data"
    },
    {
     "data": {
      "application/vnd.jupyter.widget-view+json": {
       "model_id": "73c9ff78a1854ea59954740605ba77c5",
       "version_major": 2,
       "version_minor": 0
      },
      "text/plain": [
       "  0%|          | 0/40 [00:00<?, ?it/s]"
      ]
     },
     "metadata": {},
     "output_type": "display_data"
    },
    {
     "data": {
      "application/vnd.jupyter.widget-view+json": {
       "model_id": "704509949fa74362a45987bc21696b0e",
       "version_major": 2,
       "version_minor": 0
      },
      "text/plain": [
       "  0%|          | 0/40 [00:00<?, ?it/s]"
      ]
     },
     "metadata": {},
     "output_type": "display_data"
    },
    {
     "data": {
      "application/vnd.jupyter.widget-view+json": {
       "model_id": "09ccaab4910f484d8a571c01438862c6",
       "version_major": 2,
       "version_minor": 0
      },
      "text/plain": [
       "  0%|          | 0/40 [00:00<?, ?it/s]"
      ]
     },
     "metadata": {},
     "output_type": "display_data"
    },
    {
     "data": {
      "application/vnd.jupyter.widget-view+json": {
       "model_id": "10922eca4b4b4e9e93ed2c3b85892c14",
       "version_major": 2,
       "version_minor": 0
      },
      "text/plain": [
       "  0%|          | 0/40 [00:00<?, ?it/s]"
      ]
     },
     "metadata": {},
     "output_type": "display_data"
    },
    {
     "data": {
      "application/vnd.jupyter.widget-view+json": {
       "model_id": "55a3c6ff20034c25900d2a4377fefe14",
       "version_major": 2,
       "version_minor": 0
      },
      "text/plain": [
       "  0%|          | 0/40 [00:00<?, ?it/s]"
      ]
     },
     "metadata": {},
     "output_type": "display_data"
    },
    {
     "data": {
      "application/vnd.jupyter.widget-view+json": {
       "model_id": "1187460c682841628ba916b55a6f7b86",
       "version_major": 2,
       "version_minor": 0
      },
      "text/plain": [
       "  0%|          | 0/40 [00:00<?, ?it/s]"
      ]
     },
     "metadata": {},
     "output_type": "display_data"
    },
    {
     "data": {
      "application/vnd.jupyter.widget-view+json": {
       "model_id": "c60da8b0a42447c38db4167238e8fc71",
       "version_major": 2,
       "version_minor": 0
      },
      "text/plain": [
       "  0%|          | 0/40 [00:00<?, ?it/s]"
      ]
     },
     "metadata": {},
     "output_type": "display_data"
    },
    {
     "data": {
      "application/vnd.jupyter.widget-view+json": {
       "model_id": "80451334a31a4d38955e5596a7f352d4",
       "version_major": 2,
       "version_minor": 0
      },
      "text/plain": [
       "  0%|          | 0/40 [00:00<?, ?it/s]"
      ]
     },
     "metadata": {},
     "output_type": "display_data"
    },
    {
     "name": "stdout",
     "output_type": "stream",
     "text": [
      "Saving checkpoint at 10\n"
     ]
    },
    {
     "data": {
      "application/vnd.jupyter.widget-view+json": {
       "model_id": "426caa8317b84d1dbd12e1515c3cfaeb",
       "version_major": 2,
       "version_minor": 0
      },
      "text/plain": [
       "  0%|          | 0/40 [00:00<?, ?it/s]"
      ]
     },
     "metadata": {},
     "output_type": "display_data"
    },
    {
     "data": {
      "application/vnd.jupyter.widget-view+json": {
       "model_id": "a0c054704d1e479cbedb5998f79174e5",
       "version_major": 2,
       "version_minor": 0
      },
      "text/plain": [
       "  0%|          | 0/40 [00:00<?, ?it/s]"
      ]
     },
     "metadata": {},
     "output_type": "display_data"
    },
    {
     "data": {
      "application/vnd.jupyter.widget-view+json": {
       "model_id": "dbbd527f2e344f1b8f39bfd03439a2de",
       "version_major": 2,
       "version_minor": 0
      },
      "text/plain": [
       "  0%|          | 0/40 [00:00<?, ?it/s]"
      ]
     },
     "metadata": {},
     "output_type": "display_data"
    },
    {
     "data": {
      "application/vnd.jupyter.widget-view+json": {
       "model_id": "0a52ebb694334bd79259a539cb9292ec",
       "version_major": 2,
       "version_minor": 0
      },
      "text/plain": [
       "  0%|          | 0/40 [00:00<?, ?it/s]"
      ]
     },
     "metadata": {},
     "output_type": "display_data"
    },
    {
     "data": {
      "application/vnd.jupyter.widget-view+json": {
       "model_id": "f899233ebcb049d19dab4f2976cac6c7",
       "version_major": 2,
       "version_minor": 0
      },
      "text/plain": [
       "  0%|          | 0/40 [00:00<?, ?it/s]"
      ]
     },
     "metadata": {},
     "output_type": "display_data"
    },
    {
     "data": {
      "application/vnd.jupyter.widget-view+json": {
       "model_id": "509aac6dc5454519bfb63ccc140f914e",
       "version_major": 2,
       "version_minor": 0
      },
      "text/plain": [
       "  0%|          | 0/40 [00:00<?, ?it/s]"
      ]
     },
     "metadata": {},
     "output_type": "display_data"
    },
    {
     "data": {
      "application/vnd.jupyter.widget-view+json": {
       "model_id": "1a815dcf3f174f46ac857f28f1e40716",
       "version_major": 2,
       "version_minor": 0
      },
      "text/plain": [
       "  0%|          | 0/40 [00:00<?, ?it/s]"
      ]
     },
     "metadata": {},
     "output_type": "display_data"
    },
    {
     "data": {
      "application/vnd.jupyter.widget-view+json": {
       "model_id": "d0edfd9344fa49e89cf28da23c2fce6e",
       "version_major": 2,
       "version_minor": 0
      },
      "text/plain": [
       "  0%|          | 0/40 [00:00<?, ?it/s]"
      ]
     },
     "metadata": {},
     "output_type": "display_data"
    },
    {
     "data": {
      "application/vnd.jupyter.widget-view+json": {
       "model_id": "4b1ed176867648f6ac84953d7fdc3d51",
       "version_major": 2,
       "version_minor": 0
      },
      "text/plain": [
       "  0%|          | 0/40 [00:00<?, ?it/s]"
      ]
     },
     "metadata": {},
     "output_type": "display_data"
    },
    {
     "data": {
      "application/vnd.jupyter.widget-view+json": {
       "model_id": "fc57309f55354a5e9f5cdbd88ac05275",
       "version_major": 2,
       "version_minor": 0
      },
      "text/plain": [
       "  0%|          | 0/40 [00:00<?, ?it/s]"
      ]
     },
     "metadata": {},
     "output_type": "display_data"
    },
    {
     "name": "stdout",
     "output_type": "stream",
     "text": [
      "Saving checkpoint at 20\n"
     ]
    },
    {
     "data": {
      "application/vnd.jupyter.widget-view+json": {
       "model_id": "dcebce3414c24e44a8ef4fc09e4ff416",
       "version_major": 2,
       "version_minor": 0
      },
      "text/plain": [
       "  0%|          | 0/40 [00:00<?, ?it/s]"
      ]
     },
     "metadata": {},
     "output_type": "display_data"
    },
    {
     "data": {
      "application/vnd.jupyter.widget-view+json": {
       "model_id": "62ab8e84ac1640e98ffd1f84b5b79e1f",
       "version_major": 2,
       "version_minor": 0
      },
      "text/plain": [
       "  0%|          | 0/40 [00:00<?, ?it/s]"
      ]
     },
     "metadata": {},
     "output_type": "display_data"
    },
    {
     "data": {
      "application/vnd.jupyter.widget-view+json": {
       "model_id": "a9ede2115e464c8e9ce439a4645f66a1",
       "version_major": 2,
       "version_minor": 0
      },
      "text/plain": [
       "  0%|          | 0/40 [00:00<?, ?it/s]"
      ]
     },
     "metadata": {},
     "output_type": "display_data"
    },
    {
     "data": {
      "application/vnd.jupyter.widget-view+json": {
       "model_id": "c528d527f8484284ba0ecd1b06d426c1",
       "version_major": 2,
       "version_minor": 0
      },
      "text/plain": [
       "  0%|          | 0/40 [00:00<?, ?it/s]"
      ]
     },
     "metadata": {},
     "output_type": "display_data"
    },
    {
     "data": {
      "application/vnd.jupyter.widget-view+json": {
       "model_id": "a7ce78489efd4961ac961323a33ad011",
       "version_major": 2,
       "version_minor": 0
      },
      "text/plain": [
       "  0%|          | 0/40 [00:00<?, ?it/s]"
      ]
     },
     "metadata": {},
     "output_type": "display_data"
    },
    {
     "data": {
      "application/vnd.jupyter.widget-view+json": {
       "model_id": "20d383e35dfb4f578b73c26498deda81",
       "version_major": 2,
       "version_minor": 0
      },
      "text/plain": [
       "  0%|          | 0/40 [00:00<?, ?it/s]"
      ]
     },
     "metadata": {},
     "output_type": "display_data"
    },
    {
     "data": {
      "application/vnd.jupyter.widget-view+json": {
       "model_id": "0e85f2f2f84040958980f8f1ed5409ed",
       "version_major": 2,
       "version_minor": 0
      },
      "text/plain": [
       "  0%|          | 0/40 [00:00<?, ?it/s]"
      ]
     },
     "metadata": {},
     "output_type": "display_data"
    },
    {
     "data": {
      "application/vnd.jupyter.widget-view+json": {
       "model_id": "afd442b3345a42b6895b938ceea6981e",
       "version_major": 2,
       "version_minor": 0
      },
      "text/plain": [
       "  0%|          | 0/40 [00:00<?, ?it/s]"
      ]
     },
     "metadata": {},
     "output_type": "display_data"
    },
    {
     "data": {
      "application/vnd.jupyter.widget-view+json": {
       "model_id": "6f46fea3f48d4ab08a09f046d5794edc",
       "version_major": 2,
       "version_minor": 0
      },
      "text/plain": [
       "  0%|          | 0/40 [00:00<?, ?it/s]"
      ]
     },
     "metadata": {},
     "output_type": "display_data"
    },
    {
     "data": {
      "application/vnd.jupyter.widget-view+json": {
       "model_id": "cc1ddb0b841544d59024428b2215e6c7",
       "version_major": 2,
       "version_minor": 0
      },
      "text/plain": [
       "  0%|          | 0/40 [00:00<?, ?it/s]"
      ]
     },
     "metadata": {},
     "output_type": "display_data"
    },
    {
     "name": "stdout",
     "output_type": "stream",
     "text": [
      "Saving checkpoint at 30\n"
     ]
    },
    {
     "data": {
      "application/vnd.jupyter.widget-view+json": {
       "model_id": "339dc6c37d3c4e059e52fd3efc8b9b1a",
       "version_major": 2,
       "version_minor": 0
      },
      "text/plain": [
       "  0%|          | 0/40 [00:00<?, ?it/s]"
      ]
     },
     "metadata": {},
     "output_type": "display_data"
    },
    {
     "data": {
      "application/vnd.jupyter.widget-view+json": {
       "model_id": "ec317740cf5d4c0ea5143b4ca02084db",
       "version_major": 2,
       "version_minor": 0
      },
      "text/plain": [
       "  0%|          | 0/40 [00:00<?, ?it/s]"
      ]
     },
     "metadata": {},
     "output_type": "display_data"
    },
    {
     "data": {
      "application/vnd.jupyter.widget-view+json": {
       "model_id": "ce862b8fdd514f9291e703d6053f6ff5",
       "version_major": 2,
       "version_minor": 0
      },
      "text/plain": [
       "  0%|          | 0/40 [00:00<?, ?it/s]"
      ]
     },
     "metadata": {},
     "output_type": "display_data"
    },
    {
     "data": {
      "application/vnd.jupyter.widget-view+json": {
       "model_id": "35719827733f44a5b22284f95bab9be3",
       "version_major": 2,
       "version_minor": 0
      },
      "text/plain": [
       "  0%|          | 0/40 [00:00<?, ?it/s]"
      ]
     },
     "metadata": {},
     "output_type": "display_data"
    },
    {
     "data": {
      "application/vnd.jupyter.widget-view+json": {
       "model_id": "3ccd8662dc5e45c296bb05061f141acd",
       "version_major": 2,
       "version_minor": 0
      },
      "text/plain": [
       "  0%|          | 0/40 [00:00<?, ?it/s]"
      ]
     },
     "metadata": {},
     "output_type": "display_data"
    },
    {
     "data": {
      "application/vnd.jupyter.widget-view+json": {
       "model_id": "10efa98b71764979953ad1154a84469e",
       "version_major": 2,
       "version_minor": 0
      },
      "text/plain": [
       "  0%|          | 0/40 [00:00<?, ?it/s]"
      ]
     },
     "metadata": {},
     "output_type": "display_data"
    },
    {
     "data": {
      "application/vnd.jupyter.widget-view+json": {
       "model_id": "8752c31fbf9d47679a518549e89e7c61",
       "version_major": 2,
       "version_minor": 0
      },
      "text/plain": [
       "  0%|          | 0/40 [00:00<?, ?it/s]"
      ]
     },
     "metadata": {},
     "output_type": "display_data"
    },
    {
     "data": {
      "application/vnd.jupyter.widget-view+json": {
       "model_id": "5fede75a7ccd4be1be8ae639584f9f02",
       "version_major": 2,
       "version_minor": 0
      },
      "text/plain": [
       "  0%|          | 0/40 [00:00<?, ?it/s]"
      ]
     },
     "metadata": {},
     "output_type": "display_data"
    },
    {
     "data": {
      "application/vnd.jupyter.widget-view+json": {
       "model_id": "16f08c0aa9f34ca6a9d767ff0eb1fee8",
       "version_major": 2,
       "version_minor": 0
      },
      "text/plain": [
       "  0%|          | 0/40 [00:00<?, ?it/s]"
      ]
     },
     "metadata": {},
     "output_type": "display_data"
    },
    {
     "data": {
      "application/vnd.jupyter.widget-view+json": {
       "model_id": "c1a985d4bf224fceafd038fc4f38b8f6",
       "version_major": 2,
       "version_minor": 0
      },
      "text/plain": [
       "  0%|          | 0/40 [00:00<?, ?it/s]"
      ]
     },
     "metadata": {},
     "output_type": "display_data"
    },
    {
     "name": "stdout",
     "output_type": "stream",
     "text": [
      "Saving checkpoint at 40\n"
     ]
    },
    {
     "data": {
      "application/vnd.jupyter.widget-view+json": {
       "model_id": "73b0784615d446d48e5123180d23587c",
       "version_major": 2,
       "version_minor": 0
      },
      "text/plain": [
       "  0%|          | 0/40 [00:00<?, ?it/s]"
      ]
     },
     "metadata": {},
     "output_type": "display_data"
    },
    {
     "data": {
      "application/vnd.jupyter.widget-view+json": {
       "model_id": "795dcf9e604e45b3b8b68c0fc691569c",
       "version_major": 2,
       "version_minor": 0
      },
      "text/plain": [
       "  0%|          | 0/40 [00:00<?, ?it/s]"
      ]
     },
     "metadata": {},
     "output_type": "display_data"
    },
    {
     "data": {
      "application/vnd.jupyter.widget-view+json": {
       "model_id": "025b547ecc384ef3bf3a5c4d72d84903",
       "version_major": 2,
       "version_minor": 0
      },
      "text/plain": [
       "  0%|          | 0/40 [00:00<?, ?it/s]"
      ]
     },
     "metadata": {},
     "output_type": "display_data"
    },
    {
     "data": {
      "application/vnd.jupyter.widget-view+json": {
       "model_id": "ff817cfe77224b0a9604f00852989f81",
       "version_major": 2,
       "version_minor": 0
      },
      "text/plain": [
       "  0%|          | 0/40 [00:00<?, ?it/s]"
      ]
     },
     "metadata": {},
     "output_type": "display_data"
    },
    {
     "data": {
      "application/vnd.jupyter.widget-view+json": {
       "model_id": "875874792ded4b3889ac6de8e7eaa83b",
       "version_major": 2,
       "version_minor": 0
      },
      "text/plain": [
       "  0%|          | 0/40 [00:00<?, ?it/s]"
      ]
     },
     "metadata": {},
     "output_type": "display_data"
    },
    {
     "data": {
      "application/vnd.jupyter.widget-view+json": {
       "model_id": "2041e125cabb413d9f714321cc126e0f",
       "version_major": 2,
       "version_minor": 0
      },
      "text/plain": [
       "  0%|          | 0/40 [00:00<?, ?it/s]"
      ]
     },
     "metadata": {},
     "output_type": "display_data"
    },
    {
     "data": {
      "application/vnd.jupyter.widget-view+json": {
       "model_id": "6ee437f9a46a48068acf18f3a5f17cbb",
       "version_major": 2,
       "version_minor": 0
      },
      "text/plain": [
       "  0%|          | 0/40 [00:00<?, ?it/s]"
      ]
     },
     "metadata": {},
     "output_type": "display_data"
    },
    {
     "data": {
      "application/vnd.jupyter.widget-view+json": {
       "model_id": "e5c67808492146309f399722f5d262a8",
       "version_major": 2,
       "version_minor": 0
      },
      "text/plain": [
       "  0%|          | 0/40 [00:00<?, ?it/s]"
      ]
     },
     "metadata": {},
     "output_type": "display_data"
    },
    {
     "data": {
      "application/vnd.jupyter.widget-view+json": {
       "model_id": "a241c41c89e7495c9fe37b958f31ff27",
       "version_major": 2,
       "version_minor": 0
      },
      "text/plain": [
       "  0%|          | 0/40 [00:00<?, ?it/s]"
      ]
     },
     "metadata": {},
     "output_type": "display_data"
    },
    {
     "data": {
      "application/vnd.jupyter.widget-view+json": {
       "model_id": "b25b0202f39749e28f42a0b0dc6f1cec",
       "version_major": 2,
       "version_minor": 0
      },
      "text/plain": [
       "  0%|          | 0/40 [00:00<?, ?it/s]"
      ]
     },
     "metadata": {},
     "output_type": "display_data"
    },
    {
     "name": "stdout",
     "output_type": "stream",
     "text": [
      "Saving checkpoint at 50\n"
     ]
    },
    {
     "data": {
      "application/vnd.jupyter.widget-view+json": {
       "model_id": "3e35b5e3521646ec93be0bdbc2be72fe",
       "version_major": 2,
       "version_minor": 0
      },
      "text/plain": [
       "  0%|          | 0/40 [00:00<?, ?it/s]"
      ]
     },
     "metadata": {},
     "output_type": "display_data"
    },
    {
     "data": {
      "application/vnd.jupyter.widget-view+json": {
       "model_id": "db4efe91db864002a930ae70669388e7",
       "version_major": 2,
       "version_minor": 0
      },
      "text/plain": [
       "  0%|          | 0/40 [00:00<?, ?it/s]"
      ]
     },
     "metadata": {},
     "output_type": "display_data"
    },
    {
     "data": {
      "application/vnd.jupyter.widget-view+json": {
       "model_id": "a0bc1c428a31494282c61af1014776cc",
       "version_major": 2,
       "version_minor": 0
      },
      "text/plain": [
       "  0%|          | 0/40 [00:00<?, ?it/s]"
      ]
     },
     "metadata": {},
     "output_type": "display_data"
    },
    {
     "data": {
      "application/vnd.jupyter.widget-view+json": {
       "model_id": "fa3508936348437f8710e700f7cf4a8e",
       "version_major": 2,
       "version_minor": 0
      },
      "text/plain": [
       "  0%|          | 0/40 [00:00<?, ?it/s]"
      ]
     },
     "metadata": {},
     "output_type": "display_data"
    },
    {
     "data": {
      "application/vnd.jupyter.widget-view+json": {
       "model_id": "1e7a6f655a4d443a9523cad733e5ff3a",
       "version_major": 2,
       "version_minor": 0
      },
      "text/plain": [
       "  0%|          | 0/40 [00:00<?, ?it/s]"
      ]
     },
     "metadata": {},
     "output_type": "display_data"
    },
    {
     "data": {
      "application/vnd.jupyter.widget-view+json": {
       "model_id": "82feed19c9884174afe334ba0290de09",
       "version_major": 2,
       "version_minor": 0
      },
      "text/plain": [
       "  0%|          | 0/40 [00:00<?, ?it/s]"
      ]
     },
     "metadata": {},
     "output_type": "display_data"
    },
    {
     "data": {
      "application/vnd.jupyter.widget-view+json": {
       "model_id": "94a7b55c5ea94484a1e9765010bb28c5",
       "version_major": 2,
       "version_minor": 0
      },
      "text/plain": [
       "  0%|          | 0/40 [00:00<?, ?it/s]"
      ]
     },
     "metadata": {},
     "output_type": "display_data"
    },
    {
     "data": {
      "application/vnd.jupyter.widget-view+json": {
       "model_id": "62b737e918a94325a21eb58edb365d85",
       "version_major": 2,
       "version_minor": 0
      },
      "text/plain": [
       "  0%|          | 0/40 [00:00<?, ?it/s]"
      ]
     },
     "metadata": {},
     "output_type": "display_data"
    },
    {
     "data": {
      "application/vnd.jupyter.widget-view+json": {
       "model_id": "71a4a82f989546c395c9faa476b61553",
       "version_major": 2,
       "version_minor": 0
      },
      "text/plain": [
       "  0%|          | 0/40 [00:00<?, ?it/s]"
      ]
     },
     "metadata": {},
     "output_type": "display_data"
    },
    {
     "data": {
      "application/vnd.jupyter.widget-view+json": {
       "model_id": "9a8c98d3d5c74b6393e386305cf2ce7e",
       "version_major": 2,
       "version_minor": 0
      },
      "text/plain": [
       "  0%|          | 0/40 [00:00<?, ?it/s]"
      ]
     },
     "metadata": {},
     "output_type": "display_data"
    },
    {
     "name": "stdout",
     "output_type": "stream",
     "text": [
      "Saving checkpoint at 60\n"
     ]
    },
    {
     "data": {
      "application/vnd.jupyter.widget-view+json": {
       "model_id": "21cfacdba07b46218060d3e682322055",
       "version_major": 2,
       "version_minor": 0
      },
      "text/plain": [
       "  0%|          | 0/40 [00:00<?, ?it/s]"
      ]
     },
     "metadata": {},
     "output_type": "display_data"
    },
    {
     "data": {
      "application/vnd.jupyter.widget-view+json": {
       "model_id": "8dc7f3d043f242a98a29517846d92af1",
       "version_major": 2,
       "version_minor": 0
      },
      "text/plain": [
       "  0%|          | 0/40 [00:00<?, ?it/s]"
      ]
     },
     "metadata": {},
     "output_type": "display_data"
    },
    {
     "data": {
      "application/vnd.jupyter.widget-view+json": {
       "model_id": "c5e14311d44d452c91f3e43e7983e485",
       "version_major": 2,
       "version_minor": 0
      },
      "text/plain": [
       "  0%|          | 0/40 [00:00<?, ?it/s]"
      ]
     },
     "metadata": {},
     "output_type": "display_data"
    },
    {
     "data": {
      "application/vnd.jupyter.widget-view+json": {
       "model_id": "6dddcc9be03943c4839c1707338011cf",
       "version_major": 2,
       "version_minor": 0
      },
      "text/plain": [
       "  0%|          | 0/40 [00:00<?, ?it/s]"
      ]
     },
     "metadata": {},
     "output_type": "display_data"
    },
    {
     "data": {
      "application/vnd.jupyter.widget-view+json": {
       "model_id": "1c6d740fbfcd4b208f640b80290b7f6d",
       "version_major": 2,
       "version_minor": 0
      },
      "text/plain": [
       "  0%|          | 0/40 [00:00<?, ?it/s]"
      ]
     },
     "metadata": {},
     "output_type": "display_data"
    },
    {
     "data": {
      "application/vnd.jupyter.widget-view+json": {
       "model_id": "6c968cd0399245cab6ba4c3d222ad870",
       "version_major": 2,
       "version_minor": 0
      },
      "text/plain": [
       "  0%|          | 0/40 [00:00<?, ?it/s]"
      ]
     },
     "metadata": {},
     "output_type": "display_data"
    },
    {
     "data": {
      "application/vnd.jupyter.widget-view+json": {
       "model_id": "59b6f99c8bc84a1e9e02ddf24b9cdcc0",
       "version_major": 2,
       "version_minor": 0
      },
      "text/plain": [
       "  0%|          | 0/40 [00:00<?, ?it/s]"
      ]
     },
     "metadata": {},
     "output_type": "display_data"
    },
    {
     "data": {
      "application/vnd.jupyter.widget-view+json": {
       "model_id": "e96d4528b1924137af3163b76b916e66",
       "version_major": 2,
       "version_minor": 0
      },
      "text/plain": [
       "  0%|          | 0/40 [00:00<?, ?it/s]"
      ]
     },
     "metadata": {},
     "output_type": "display_data"
    },
    {
     "data": {
      "application/vnd.jupyter.widget-view+json": {
       "model_id": "0ae5023aec2d49288341b5600ad4d399",
       "version_major": 2,
       "version_minor": 0
      },
      "text/plain": [
       "  0%|          | 0/40 [00:00<?, ?it/s]"
      ]
     },
     "metadata": {},
     "output_type": "display_data"
    },
    {
     "data": {
      "application/vnd.jupyter.widget-view+json": {
       "model_id": "5ccf533b68114fcb9c1059f0b25b541f",
       "version_major": 2,
       "version_minor": 0
      },
      "text/plain": [
       "  0%|          | 0/40 [00:00<?, ?it/s]"
      ]
     },
     "metadata": {},
     "output_type": "display_data"
    },
    {
     "name": "stdout",
     "output_type": "stream",
     "text": [
      "Saving checkpoint at 70\n"
     ]
    },
    {
     "data": {
      "application/vnd.jupyter.widget-view+json": {
       "model_id": "2f69bddf808143e496237cbff48e13f8",
       "version_major": 2,
       "version_minor": 0
      },
      "text/plain": [
       "  0%|          | 0/40 [00:00<?, ?it/s]"
      ]
     },
     "metadata": {},
     "output_type": "display_data"
    },
    {
     "data": {
      "application/vnd.jupyter.widget-view+json": {
       "model_id": "9ff12b8165b54693aef28b26e2c11b6d",
       "version_major": 2,
       "version_minor": 0
      },
      "text/plain": [
       "  0%|          | 0/40 [00:00<?, ?it/s]"
      ]
     },
     "metadata": {},
     "output_type": "display_data"
    },
    {
     "data": {
      "application/vnd.jupyter.widget-view+json": {
       "model_id": "c6b7de4ec184475b8cb0c94e661c5a9e",
       "version_major": 2,
       "version_minor": 0
      },
      "text/plain": [
       "  0%|          | 0/40 [00:00<?, ?it/s]"
      ]
     },
     "metadata": {},
     "output_type": "display_data"
    },
    {
     "data": {
      "application/vnd.jupyter.widget-view+json": {
       "model_id": "0f02259acf1c424d8d9eba1921e4c578",
       "version_major": 2,
       "version_minor": 0
      },
      "text/plain": [
       "  0%|          | 0/40 [00:00<?, ?it/s]"
      ]
     },
     "metadata": {},
     "output_type": "display_data"
    },
    {
     "data": {
      "application/vnd.jupyter.widget-view+json": {
       "model_id": "3b3ad0509ad24acc9878cf03e86e1e15",
       "version_major": 2,
       "version_minor": 0
      },
      "text/plain": [
       "  0%|          | 0/40 [00:00<?, ?it/s]"
      ]
     },
     "metadata": {},
     "output_type": "display_data"
    },
    {
     "data": {
      "application/vnd.jupyter.widget-view+json": {
       "model_id": "437ead0824c243f0b6c2d842d7d11a31",
       "version_major": 2,
       "version_minor": 0
      },
      "text/plain": [
       "  0%|          | 0/40 [00:00<?, ?it/s]"
      ]
     },
     "metadata": {},
     "output_type": "display_data"
    },
    {
     "data": {
      "application/vnd.jupyter.widget-view+json": {
       "model_id": "b187863b570a45d2b967523b1a13a6c5",
       "version_major": 2,
       "version_minor": 0
      },
      "text/plain": [
       "  0%|          | 0/40 [00:00<?, ?it/s]"
      ]
     },
     "metadata": {},
     "output_type": "display_data"
    },
    {
     "data": {
      "application/vnd.jupyter.widget-view+json": {
       "model_id": "4d5ff73cb52b429baf094a70c5b72ed4",
       "version_major": 2,
       "version_minor": 0
      },
      "text/plain": [
       "  0%|          | 0/40 [00:00<?, ?it/s]"
      ]
     },
     "metadata": {},
     "output_type": "display_data"
    },
    {
     "data": {
      "application/vnd.jupyter.widget-view+json": {
       "model_id": "ffe19141f1034e45839cf565282f32f5",
       "version_major": 2,
       "version_minor": 0
      },
      "text/plain": [
       "  0%|          | 0/40 [00:00<?, ?it/s]"
      ]
     },
     "metadata": {},
     "output_type": "display_data"
    },
    {
     "data": {
      "application/vnd.jupyter.widget-view+json": {
       "model_id": "7a8b00e9cfb24ea4a2bc58da03d8ea4d",
       "version_major": 2,
       "version_minor": 0
      },
      "text/plain": [
       "  0%|          | 0/40 [00:00<?, ?it/s]"
      ]
     },
     "metadata": {},
     "output_type": "display_data"
    },
    {
     "name": "stdout",
     "output_type": "stream",
     "text": [
      "Saving checkpoint at 80\n"
     ]
    },
    {
     "data": {
      "application/vnd.jupyter.widget-view+json": {
       "model_id": "a5c6b9a4f04d4e728ff10d6fcdc4096d",
       "version_major": 2,
       "version_minor": 0
      },
      "text/plain": [
       "  0%|          | 0/40 [00:00<?, ?it/s]"
      ]
     },
     "metadata": {},
     "output_type": "display_data"
    },
    {
     "data": {
      "application/vnd.jupyter.widget-view+json": {
       "model_id": "bc85a479467046b08c787c979bd29144",
       "version_major": 2,
       "version_minor": 0
      },
      "text/plain": [
       "  0%|          | 0/40 [00:00<?, ?it/s]"
      ]
     },
     "metadata": {},
     "output_type": "display_data"
    },
    {
     "data": {
      "application/vnd.jupyter.widget-view+json": {
       "model_id": "9f68e48ce0ee4c0cb17c3ae0341c32f4",
       "version_major": 2,
       "version_minor": 0
      },
      "text/plain": [
       "  0%|          | 0/40 [00:00<?, ?it/s]"
      ]
     },
     "metadata": {},
     "output_type": "display_data"
    },
    {
     "data": {
      "application/vnd.jupyter.widget-view+json": {
       "model_id": "75d39c88903949c88f31c0123933772a",
       "version_major": 2,
       "version_minor": 0
      },
      "text/plain": [
       "  0%|          | 0/40 [00:00<?, ?it/s]"
      ]
     },
     "metadata": {},
     "output_type": "display_data"
    },
    {
     "name": "stdout",
     "output_type": "stream",
     "text": [
      "Generated Collection...\n"
     ]
    }
   ],
   "source": [
    "collection = []\n",
    "counter = 0\n",
    "checkpoint = 10\n",
    "\n",
    "for region in tqdm(regions):\n",
    "    src = rio.open(os.path.join(PATH, region))\n",
    "    name_clean = region.replace(\".tif\",\"\")\n",
    "    \n",
    "    # region as window and shapely polygon\n",
    "    ncols, nrows = src.meta['width'], src.meta['height']\n",
    "    bounds = list(src.bounds)\n",
    "    big_window = rio.windows.Window(col_off = 0, row_off = 0, width = ncols, height = nrows)\n",
    "    big_poly = Polygon([(bounds[0], bounds[1]), (bounds[2], bounds[1]), (bounds[2], bounds[3]), (bounds[0], bounds[3])])\n",
    "    \n",
    "    # filter X and Y\n",
    "    region_shapes = shape_labels[shape_labels['Shape'].apply(lambda s: s.intersects(big_poly))].copy()\n",
    "    \n",
    "    # cut shapes to region bounds\n",
    "    region_shapes['Shape'] = region_shapes['Shape'].apply(lambda s: s.intersection(big_poly))\n",
    "    region_shapes['Shape'] = region_shapes['Shape'].apply(lambda s: s if s.geom_type != 'MultiPolygon' else list(s))\n",
    "    region_shapes = region_shapes.explode('Shape')\n",
    "    region_shapes['Type'] = region_shapes['Shape'].apply(lambda s: s.geom_type)\n",
    "    region_shapes = region_shapes[region_shapes['Type'] == 'Polygon']\n",
    "    region_shapes['ShapeX'] = region_shapes['Shape'].apply(lambda s: s.exterior.coords.xy[0])\n",
    "    region_shapes['ShapeY'] = region_shapes['Shape'].apply(lambda s: s.exterior.coords.xy[1])\n",
    "    \n",
    "    # translate to pixels\n",
    "    region_shapes['ShapeX'] = region_shapes['ShapeX'].apply(lambda lx: [(x - bounds[0])*8 for x in lx])\n",
    "    region_shapes['ShapeY'] = region_shapes['ShapeY'].apply(lambda ly: [(1000 - (y - bounds[1]))*8 for y in ly])\n",
    "    region_shapes['Shape'] = list(zip(region_shapes.ShapeX, region_shapes.ShapeY))\n",
    "    region_shapes['Shape'] = region_shapes['Shape'].apply(lambda t: list(zip(t[0], t[1])))\n",
    "    \n",
    "    # traverse tiles column bv column, row by row\n",
    "    for row in tqdm(range(tiles_v)):\n",
    "        row_off = int(row * (height - v_overlap))\n",
    "        for col in range(tiles_v):\n",
    "            col_off = int(col * (width - h_overlap))\n",
    "            # define tile bounds\n",
    "            tile_window = rio.windows.Window(col_off = col_off, row_off = row_off, width = width, height = height).intersection(big_window)\n",
    "            tile_poly = Polygon([(col_off, row_off), (col_off+width, row_off), (col_off+width, row_off+height), (col_off, row_off+height)])\n",
    "            # read image\n",
    "            src_image = src.read(window = tile_window)[:3]\n",
    "            image = np.stack((src_image[0], src_image[1], src_image[2]), axis = 2)\n",
    "            # get points and shapes in tile \n",
    "            tile_shapes = region_shapes[region_shapes['Shape'].apply(lambda s: Polygon(s).intersects(tile_poly))].copy()\n",
    "            #cut to tile bounds\n",
    "            tile_shapes['Shape'] = tile_shapes['Shape'].apply(lambda s: Polygon(s).intersection(tile_poly))\n",
    "            tile_shapes['Shape'] = tile_shapes['Shape'].apply(lambda s: s if s.geom_type != 'MultiPolygon' else list(s))\n",
    "            tile_shapes = tile_shapes.explode('Shape')\n",
    "            tile_shapes['Type'] = tile_shapes['Shape'].apply(lambda s: s.geom_type)\n",
    "            tile_shapes = tile_shapes[tile_shapes['Type'] == 'Polygon']\n",
    "            tile_shapes['ShapeX'] = tile_shapes['Shape'].apply(lambda s: s.exterior.coords.xy[0])\n",
    "            tile_shapes['ShapeY'] = tile_shapes['Shape'].apply(lambda s: s.exterior.coords.xy[1])\n",
    "            # translate to new dimensions\n",
    "            tile_shapes['ShapeX'] = tile_shapes['ShapeX'].apply(lambda lx: [round(x - col_off) for x in lx])\n",
    "            tile_shapes['ShapeY'] = tile_shapes['ShapeY'].apply(lambda ly: [round(y - row_off) for y in ly])\n",
    "            # put shape coordinates together\n",
    "            tile_shapes['pShape'] = list(zip(tile_shapes.ShapeX, tile_shapes.ShapeY))\n",
    "            tile_shapes['pShape'] = tile_shapes['pShape'].apply(lambda t: list(zip(t[0], t[1])))\n",
    "            #get representative point\n",
    "            tile_shapes['Point'] = tile_shapes['pShape'].apply(lambda t: Polygon(t).representative_point())\n",
    "            tile_shapes['PointX'] = tile_shapes['Point'].apply(lambda p: round(list(p.coords)[0][0]))\n",
    "            tile_shapes['PointY'] = tile_shapes['Point'].apply(lambda p: round(list(p.coords)[0][1]))\n",
    "            # to Numpy\n",
    "            np_points = tile_shapes[['PointX', 'PointY']].to_numpy()\n",
    "            np_shapes = tile_shapes['pShape'].to_numpy()\n",
    "            # add to collection\n",
    "            collection.append({\"file\": name_clean, \"tile\": str(col + (row * tiles_v) + 1), \"image\": image, \"points\": np_points, \"npoints\": len(np_points), \"shapes\": np_shapes, \"nshapes\": len(np_shapes)})\n",
    "            \n",
    "    if counter != 0 and counter % checkpoint == 0 :\n",
    "        print(f\"Saving checkpoint at {counter}\")\n",
    "        np.save(os.path.join(SAVE_PATH, \"checkpoint_\"+str(counter)), collection)\n",
    "        collection = []\n",
    "        \n",
    "    counter += 1\n",
    "\n",
    "np.save(os.path.join(SAVE_PATH, \"checkpoint_\"+str(counter)), collection)\n",
    "print(f\"Generated Collection...\")"
   ]
  },
  {
   "cell_type": "markdown",
   "id": "52d5e382-520e-460b-9da8-80a6077dff05",
   "metadata": {},
   "source": [
    "## Write To Data Directory\n",
    "\n",
    "First cell creates the necessary directories, remaining cells need to be executed for each checkpoint file.\n",
    "\n",
    "Remember to choose the right write mode for the text files."
   ]
  },
  {
   "cell_type": "code",
   "execution_count": 6,
   "id": "945e86b6-3c1e-4012-bcd7-184b9f805a5f",
   "metadata": {},
   "outputs": [],
   "source": [
    "NEW_PATH = os.path.join(SAVE_PATH, f\"{width}x{height}\")\n",
    "os.mkdir(NEW_PATH)\n",
    "IMAGE_PATH = os.path.join(NEW_PATH, \"images\")\n",
    "os.mkdir(IMAGE_PATH)\n",
    "LABEL_PATH = os.path.join(NEW_PATH, \"points_buildings\")\n",
    "os.mkdir(LABEL_PATH)\n",
    "SHAPE_PATH = os.path.join(NEW_PATH, \"shapes_buildings\")\n",
    "os.mkdir(SHAPE_PATH)\n",
    "SETS_PATH = os.path.join(NEW_PATH, \"image_sets_buildings\")\n",
    "os.mkdir(SETS_PATH)"
   ]
  },
  {
   "cell_type": "code",
   "execution_count": 47,
   "id": "9d39eb82-8d75-448b-9b3d-f3578900adc7",
   "metadata": {},
   "outputs": [],
   "source": [
    "file = \"checkpoint_85.npy\"\n",
    "collection = np.load(os.path.join(SAVE_PATH, file), allow_pickle=True)\n",
    "collection = pd.DataFrame(collection)\n",
    "collection = collection[0].apply(pd.Series)"
   ]
  },
  {
   "cell_type": "markdown",
   "id": "15efcc10-6e3e-4707-8730-adf856a0e9ac",
   "metadata": {},
   "source": [
    "Images..."
   ]
  },
  {
   "cell_type": "code",
   "execution_count": 48,
   "id": "04f750cc-631c-4e4c-92df-b78728f87073",
   "metadata": {},
   "outputs": [
    {
     "data": {
      "application/vnd.jupyter.widget-view+json": {
       "model_id": "25208e3cae754161b1270981333c9f67",
       "version_major": 2,
       "version_minor": 0
      },
      "text/plain": [
       "0it [00:00, ?it/s]"
      ]
     },
     "metadata": {},
     "output_type": "display_data"
    }
   ],
   "source": [
    "TARGET_TYPE = \".jpg\"\n",
    "\n",
    "for index, item in tqdm(collection.iterrows()):\n",
    "    data = item['image']\n",
    "    name = item['file'] + \"_\" + item['tile'] + TARGET_TYPE\n",
    "    #np.save(os.path.join(IMAGE_PATH, name), data) #change TARGET_TYPE\n",
    "    img = Image.fromarray(data, 'RGB')\n",
    "    img.save(os.path.join(IMAGE_PATH, name))"
   ]
  },
  {
   "cell_type": "markdown",
   "id": "bfba0d81-d41f-452c-9665-bf04652fbdbe",
   "metadata": {},
   "source": [
    "Point-Labels..."
   ]
  },
  {
   "cell_type": "code",
   "execution_count": 49,
   "id": "6f6d2bbf-69da-4be6-acfc-237bf7bb5f1b",
   "metadata": {},
   "outputs": [
    {
     "data": {
      "application/vnd.jupyter.widget-view+json": {
       "model_id": "7cbd38d506464a908664a039b24e9f20",
       "version_major": 2,
       "version_minor": 0
      },
      "text/plain": [
       "0it [00:00, ?it/s]"
      ]
     },
     "metadata": {},
     "output_type": "display_data"
    }
   ],
   "source": [
    "items_with_label = collection[collection.npoints > 0]\n",
    "\n",
    "for index, item in tqdm(items_with_label.iterrows()):\n",
    "    data = item['points']\n",
    "    name = item['file'] + \"_\" + item['tile'] + \"_points.npy\"\n",
    "    np.save(os.path.join(LABEL_PATH, name), data)"
   ]
  },
  {
   "cell_type": "markdown",
   "id": "0700d872-e62d-4a28-91a9-0e550ac5e9c8",
   "metadata": {},
   "source": [
    "Polygon-Shapes..."
   ]
  },
  {
   "cell_type": "code",
   "execution_count": 50,
   "id": "08c0c6ab-8bb7-4b61-9907-32d496baa3b0",
   "metadata": {},
   "outputs": [
    {
     "data": {
      "application/vnd.jupyter.widget-view+json": {
       "model_id": "171a134f161d42aaafe7aa9d01ce709d",
       "version_major": 2,
       "version_minor": 0
      },
      "text/plain": [
       "0it [00:00, ?it/s]"
      ]
     },
     "metadata": {},
     "output_type": "display_data"
    }
   ],
   "source": [
    "items_with_shape = collection[collection.nshapes > 0]\n",
    "\n",
    "for index, item in tqdm(items_with_shape.iterrows()):\n",
    "    data = item['shapes']\n",
    "    name = item['file'] + \"_\" + item['tile'] + \"_shapes.npy\"\n",
    "    np.save(os.path.join(SHAPE_PATH, name), data)"
   ]
  },
  {
   "cell_type": "markdown",
   "id": "deedaf8b-a06d-40fb-a3d8-b32b27165ae9",
   "metadata": {},
   "source": [
    "Create text-files containing the names of all tiles, those containing points and those containing shapes"
   ]
  },
  {
   "cell_type": "code",
   "execution_count": 51,
   "id": "808501f0-aefb-419f-82f8-c4b36be3c246",
   "metadata": {},
   "outputs": [],
   "source": [
    "mode = \"a\" #\"w\" for write\n",
    "all_file = open(os.path.join(SETS_PATH, \"all.txt\"), mode)\n",
    "points_file = open(os.path.join(SETS_PATH, \"points.txt\"), mode) \n",
    "shapes_file = open(os.path.join(SETS_PATH, \"shapes.txt\"), mode) \n",
    "\n",
    "for index, item in collection.iterrows():\n",
    "    name = item['file'] + \"_\" + item['tile'] + \"\\n\"\n",
    "    all_file.write(name)\n",
    "    if item.nshapes > 0:\n",
    "        shapes_file.write(name)\n",
    "    if item.npoints > 0:\n",
    "        points_file.write(name) \n",
    "\n",
    "all_file.close() \n",
    "points_file.close()     \n",
    "shapes_file.close()"
   ]
  },
  {
   "cell_type": "markdown",
   "id": "740ea10b-650d-4a32-8988-7b93aac43c14",
   "metadata": {},
   "source": [
    "# IMAGE NORMALIZATION\n",
    "\n",
    "These cells may be used to a large amount of images in order to determine means and standard deviations for image normalization during the training phase."
   ]
  },
  {
   "cell_type": "code",
   "execution_count": null,
   "id": "0a87f1dd-1197-488a-b3f2-c3d9bb778c1b",
   "metadata": {},
   "outputs": [],
   "source": [
    "import torch\n",
    "import numpy as np\n",
    "from torch.utils.data import DataLoader\n",
    "import datasets\n",
    "from helpers import io"
   ]
  },
  {
   "cell_type": "code",
   "execution_count": null,
   "id": "9d18716e-1cec-48c7-916f-d51c9ac5ee1f",
   "metadata": {},
   "outputs": [],
   "source": [
    "DATA_PATH = \"/home/jovyan/work/DENMARK/256x256\"\n",
    "images_path = os.paths.join(DATA_PATH, \"image_sets\", \"all.txt\")\n",
    "images = [name.replace(\"\\n\",\"\") for name in io.readText(images_path)]\n",
    "\n",
    "dataset = datasets.getDataset(name = \"denmark_points\", \n",
    "                              path = DATA_PATH,\n",
    "                              images = images,\n",
    "                              n_classes = 2,\n",
    "                              transform = None)\n",
    "\n",
    "sampler = torch.utils.data.RandomSampler(dataset)\n",
    "loader = DataLoader(dataset, sampler = sampler, batch_size = len(dataset), drop_last = True, num_workers = 1)\n",
    "\n",
    "dataiter = iter(loader)\n",
    "batch = dataiter.next()\n",
    "\n",
    "print(np.mean(batch['images'].numpy(), axis = (0, 2, 3)), \"\\n\", np.std(batch['images'].numpy(), axis = (0, 2, 3)))\n",
    "#print(np.mean(batch['images'].numpy()), \"\\n\", np.std(batch['images'].numpy())) sanity check without axis"
   ]
  },
  {
   "cell_type": "markdown",
   "id": "e468e4fe-c9d0-4fa9-8703-07f01d398f5c",
   "metadata": {},
   "source": [
    "# CONVOLUTIONAL ORIENTED BOUNDARIES\n",
    "\n",
    "Generates COB-Images for Dataset"
   ]
  },
  {
   "cell_type": "code",
   "execution_count": null,
   "id": "a89224df-c66b-4e42-b650-8a3d9eabcd5d",
   "metadata": {},
   "outputs": [],
   "source": [
    "import os\n",
    "import torch\n",
    "import numpy as np\n",
    "from tqdm.notebook import tqdm\n",
    "from skimage.io import imread\n",
    "from torchvision.utils import save_image\n",
    "\n",
    "from models.cobnet import COBNet\n",
    "from helpers.cob.dataset import COBtransform"
   ]
  },
  {
   "cell_type": "markdown",
   "id": "cfed5698-51bf-4995-97ff-300caebe183a",
   "metadata": {},
   "source": [
    "## Enter Settings and Search Files"
   ]
  },
  {
   "cell_type": "code",
   "execution_count": null,
   "id": "45e86357-dbfe-4745-a6d4-55afa512f814",
   "metadata": {},
   "outputs": [],
   "source": [
    "PATH = \"/home/jovyan/work/processed/1024x1024\"\n",
    "IMAGES_PATH = os.path.join(PATH, \"images\")\n",
    "SAVE_PATH = os.path.join(PATH, \"cob\")\n",
    "os.mkdir(SAVE_PATH)\n",
    "\n",
    "TYPE = \".jpg\"\n",
    "IMAGE_WIDTH = 1024\n",
    "STATE_DICT = \"/home/jovyan/work/runs/X_COBNET/cp_or.pth.tar\""
   ]
  },
  {
   "cell_type": "code",
   "execution_count": null,
   "id": "84f1cdee-8c94-4acb-b501-fbd9f55da165",
   "metadata": {},
   "outputs": [],
   "source": [
    "images = []\n",
    "\n",
    "for _, _, files in os.walk(IMAGES_PATH):\n",
    "    for file in files:\n",
    "        if file.endswith(TYPE):\n",
    "            images.append(file)\n",
    "\n",
    "n_images = len(images)\n",
    "print(f\"Found {n_images} images\")"
   ]
  },
  {
   "cell_type": "markdown",
   "id": "dad60d24-1937-45b3-b851-8045be88b832",
   "metadata": {},
   "source": [
    "## Normalize and Run Model"
   ]
  },
  {
   "cell_type": "code",
   "execution_count": null,
   "id": "25cef416-b3c5-4ce7-9b26-45d7d4bd5073",
   "metadata": {},
   "outputs": [],
   "source": [
    "means = [0.492, 0.475, 0.430]\n",
    "stds = [0.176, 0.173, 0.176]\n",
    "transform = COBtransform(means, stds, IMAGE_WIDTH)\n",
    "\n",
    "model = COBNet()\n",
    "model.load_state_dict(torch.load(STATE_DICT))\n",
    "\n",
    "for i in tqdm(range(n_images)):\n",
    "    image = imread(os.path.join(IMAGES_PATH, images[i]))\n",
    "    image = transform(images = image[np.newaxis, ...])[0]\n",
    "    image = np.stack((image[:,:,0], image[:,:,1], image[:,:,2]), axis = 0)\n",
    "    img_tensor = torch.tensor(image[np.newaxis, ...]).float()\n",
    "    \n",
    "    model.eval()\n",
    "    with torch.no_grad():\n",
    "        cob = model(img_tensor)\n",
    "        \n",
    "    data = cob['y_fine'].sigmoid()\n",
    "    path = os.path.join(SAVE_PATH, images[i])\n",
    "    save_image(data, path)\n",
    "    \n",
    "print(\"Generated all images\")"
   ]
  },
  {
   "cell_type": "markdown",
   "id": "1b7736f7-3955-468e-83f5-f99306e67e72",
   "metadata": {},
   "source": [
    "# EXPLORATION REGION"
   ]
  },
  {
   "cell_type": "code",
   "execution_count": null,
   "id": "64a19570-9d93-4eee-b420-7d5453979b89",
   "metadata": {},
   "outputs": [],
   "source": [
    "os.mkdir(SAVE_PATH) # comment out if existing\n",
    "cob_file = open(os.path.join(PATH, \"image_sets\", \"cob.txt\"), \"w\")\n",
    "\n",
    "for i in range(len(cob_collection)):\n",
    "    data = cob_collection[i]['y_fine'].sigmoid()\n",
    "    path = os.path.join(SAVE_PATH, images[i])\n",
    "    cob_file.write(name) \n",
    "    save_image(data, path)\n",
    "    \n",
    "cob_file.close()"
   ]
  },
  {
   "cell_type": "code",
   "execution_count": null,
   "id": "6e9fd185-a2bf-4fa3-b1d7-e10be27d5080",
   "metadata": {},
   "outputs": [],
   "source": [
    "# How many 250x250 tiles actually have a label?\n",
    "have = len(collection[collection.npoints > 0])\n",
    "total = len(collection)\n",
    "print(f\"From a total of {total} tiles, {have} have a label assigned ({have/total*100} %)\")"
   ]
  }
 ],
 "metadata": {
  "kernelspec": {
   "display_name": "Python 3",
   "language": "python",
   "name": "python3"
  },
  "language_info": {
   "codemirror_mode": {
    "name": "ipython",
    "version": 3
   },
   "file_extension": ".py",
   "mimetype": "text/x-python",
   "name": "python",
   "nbconvert_exporter": "python",
   "pygments_lexer": "ipython3",
   "version": "3.8.5"
  }
 },
 "nbformat": 4,
 "nbformat_minor": 5
}
