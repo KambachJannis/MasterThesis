{
 "cells": [
  {
   "cell_type": "code",
   "execution_count": 1,
   "id": "computational-disposal",
   "metadata": {},
   "outputs": [],
   "source": [
    "import torch\n",
    "from torch.backends import cudnn \n",
    "from torchvision import transforms\n",
    "from torch.utils.data import DataLoader\n",
    "cudnn.benchmark = True # might speed up runtime, test later or leave out\n",
    "\n",
    "import os\n",
    "import shutil\n",
    "import itertools\n",
    "import numpy as np\n",
    "import pandas as pd\n",
    "from tqdm.notebook import tqdm\n",
    "\n",
    "import models\n",
    "import losses\n",
    "import datasets\n",
    "from helpers import io, experiment_manager"
   ]
  },
  {
   "cell_type": "markdown",
   "id": "76a65fbe-d6c0-45d8-aa4b-6dc201b1760a",
   "metadata": {},
   "source": [
    "# MODEL TRAINING\n",
    "\n",
    "The purpose of this notebook is to test different model learning configurations. Outputs (model checkpoints, configuration dictionary) are saved in the specified directory below. Data path should lead to output folder created during preprocessing.\n"
   ]
  },
  {
   "cell_type": "code",
   "execution_count": null,
   "id": "14b63704-ad47-438a-a5c1-dc28e8488873",
   "metadata": {},
   "outputs": [],
   "source": [
    "DATA_PATH = \"/home/jovyan/work/DENMARK/256x256\"\n",
    "SAVE_PATH = \"/home/jovyan/work/runs/MODELS\""
   ]
  },
  {
   "cell_type": "code",
   "execution_count": null,
   "id": "16a4b8c8-eb48-4067-a978-c78e7bb35f73",
   "metadata": {},
   "outputs": [],
   "source": [
    "EXP_ID = \"cob1\"\n",
    "EM = experiment_manager.Manager(EXP_ID, SAVE_PATH)"
   ]
  },
  {
   "cell_type": "markdown",
   "id": "encouraging-billion",
   "metadata": {},
   "source": [
    "\n",
    "## Data\n",
    "\n",
    "Dataset class takes list of image names as _images_ parameter. These lists for training and validation sets are created in the next cell from .txt files created during preprocessing in the _image_sets_ folder.\n",
    "\n",
    "Preporcessing assignes image names to files based on what label-information is available for each image. This is done to get a predictable output for the dataloader.\n"
   ]
  },
  {
   "cell_type": "code",
   "execution_count": null,
   "id": "40b8a681-b6ac-4754-ad34-706aafebbea5",
   "metadata": {},
   "outputs": [],
   "source": [
    "# basic settings for dataset\n",
    "EM.dataset_type = \"denmark_points\"\n",
    "EM.batch_size_train = 1\n",
    "EM.batch_size_val = 1\n",
    "EM.n_classes = 2\n",
    "\n",
    "# load image-lists from files\n",
    "images_path = os.path.join(DATA_PATH, 'image_sets', 'points.txt')\n",
    "train_images = [name.replace(\"\\n\",\"\") for name in io.readText(images_path)]\n",
    "val_images = [name.replace(\"\\n\",\"\") for name in io.readText(images_path)]\n",
    "\n",
    "# create transformation object\n",
    "transform_mean = [0.492, 0.475, 0.430]\n",
    "transform_std = [0.176, 0.173, 0.176]\n",
    "\n",
    "EM.transform = transforms.Compose([transforms.ToTensor(),\n",
    "                                   transforms.Normalize(mean = transform_mean, \n",
    "                                                        std = transform_std)])"
   ]
  },
  {
   "cell_type": "code",
   "execution_count": 4,
   "id": "controversial-submission",
   "metadata": {},
   "outputs": [],
   "source": [
    "train_set = datasets.getDataset(name = EM.dataset_type,\n",
    "                                path = DATA_PATH,\n",
    "                                images = train_images,\n",
    "                                n_classes = EM.n_classes,\n",
    "                                transform = EM.transform)\n",
    "\n",
    "train_sampler = torch.utils.data.RandomSampler(train_set)\n",
    "\n",
    "train_loader = DataLoader(train_set, sampler = train_sampler,\n",
    "                          batch_size = EM.batch_size_train, \n",
    "                          drop_last = True, num_workers = 2)\n",
    "\n",
    "val_set = datasets.getDataset(dataset = EM.dataset_type,\n",
    "                              path = DATA_PATH,\n",
    "                              images = val_images,\n",
    "                              n_classes = EM.n_classes,\n",
    "                              transform = EM.transform)\n",
    "\n",
    "val_sampler = torch.utils.data.SequentialSampler(val_set)\n",
    "\n",
    "val_loader = DataLoader(val_set, sampler = val_sampler,\n",
    "                        batch_size = EM.batch_size_val,\n",
    "                        num_workers = 2)"
   ]
  },
  {
   "cell_type": "markdown",
   "id": "right-uncertainty",
   "metadata": {},
   "source": [
    "## Model\n",
    "\n",
    "Model can be selected from _vgg16_, _resnet_ and _unet_. Available loss functions for point-supervision are _lcfcn_ and and _cob_. "
   ]
  },
  {
   "cell_type": "code",
   "execution_count": 5,
   "id": "amazing-strip",
   "metadata": {},
   "outputs": [],
   "source": [
    "# basic settings for model\n",
    "EM.net_name = 'vgg16'\n",
    "EM.opt_name = 'adam'\n",
    "EM.loss_name = 'cob'\n",
    "\n",
    "# optimizer-specific settings\n",
    "EM.adam_learning_rate = 1e-5\n",
    "EM.adam_betas = (0.99, 0.999)\n",
    "EM.adam_decay = 0.0005 "
   ]
  },
  {
   "cell_type": "code",
   "execution_count": null,
   "id": "f31ada3e-ab93-45e1-8ce3-364f9e635df2",
   "metadata": {},
   "outputs": [],
   "source": [
    "model = models.getNet(EM.net_name, EM.n_classes).cuda()\n",
    "\n",
    "criterion = losses.getLoss(EM.loss_name)\n",
    "\n",
    "if EM.opt_name = 'adam':\n",
    "    optimizer = torch.optim.Adam(model.parameters(), lr = EM.learning_rate, betas = EM.adam_betas, weight_decay = EM.adam_decay)\n",
    "else:\n",
    "    print(\"This is a sanity check for the experiment dictionary.\")"
   ]
  },
  {
   "cell_type": "markdown",
   "id": "instant-despite",
   "metadata": {},
   "source": [
    "## Run Management\n",
    "\n",
    "Check if a previous run with the same ID exists and either load the last state dicts or move the run folder into the backup folder."
   ]
  },
  {
   "cell_type": "code",
   "execution_count": 23,
   "id": "acknowledged-bangladesh",
   "metadata": {},
   "outputs": [],
   "source": [
    "if os.path.exists(EM.save_path):\n",
    "    confirm = input(\"Run with same ID found - load, backup or cancel?: \")\n",
    "    \n",
    "    if confirm == 'load':\n",
    "        # load state dicts and manager\n",
    "        checkpoint = torch.load(os.path.join(EM.save_path, 'checkpoint_last.pth'))\n",
    "        model.load_state_dict(checkpoint['model'])\n",
    "        optimizer.load_state_dict(checkpoint['optimizer'])\n",
    "        manager = io.loadPKL(os.path.join(EM.save_path, 'manager.pkl'))\n",
    "        # take epoch settings from manager\n",
    "        EM.current_epoch = manager.current_epoch\n",
    "        EM.epochs = manager.epochs + 1\n",
    "        EM.loss_list = manager.loss_list\n",
    "        # probably need to copy some scores here\n",
    "        print(f\"Loaded previous run - continuing from epoch {EM.current_epoch}...\")\n",
    "   \n",
    "    elif confirm == 'backup':\n",
    "        # move existing folder to backup subfolder\n",
    "        dest = os.path.join(SAVE_PATH, 'backup', EM.id)\n",
    "        shutil.move(EM.save_path, dest)\n",
    "        # set current epoch\n",
    "        os.mkdir(EM.save_path)\n",
    "        EM.current_epoch = 0\n",
    "        EM.loss_list = []\n",
    "        print(f\"Starting new run from epoch 0...\")\n",
    "    \n",
    "    else:\n",
    "        print(\"No action taken...\")"
   ]
  },
  {
   "cell_type": "markdown",
   "id": "established-marine",
   "metadata": {},
   "source": [
    "## Main Epoch Loop\n",
    "\n",
    "Each epoch conists of training, validation, updating the statstics and saving the best as well as the most recent model and validation statistics"
   ]
  },
  {
   "cell_type": "code",
   "execution_count": null,
   "id": "departmental-notice",
   "metadata": {},
   "outputs": [],
   "source": [
    "EM.epochs = 5\n",
    "\n",
    "for epoch in tqdm(range(EM.current_epoch, EM.epochs)):\n",
    "    \n",
    "    # Training Phase\n",
    "    train_loss = model.trainOnLoader(model, train_loader)\n",
    "    print(\"Training done...\")\n",
    "    \n",
    "    # Validation Phase\n",
    "    train_loss = model.valOnLoader(val_loader, savedir_images=os.path.join(savedir, \"images\"), n_images=30)\n",
    "    print(\"Validation done...\")\n",
    "    \n",
    "    # update experiment manager with losses\n",
    "    loss_dict = {'train': train_loss, 'val': val_loss, 'epoch': len(EM.score_list)}\n",
    "    EM.loss_list += [loss_dict]\n",
    "    print(\"\\n\", pd.DataFrame(EM.loss_list).tail(), \"\\n\")\n",
    "    \n",
    "    # save model optimizer and manager as checkpoint\n",
    "    checkpoint = {'epoch': epoch, 'model': model.state_dict(), 'optimizer': optimizer.state_dict()}\n",
    "    torch.save(checkpoint, os.path.join(EM.save_path, 'checkpoint_last.pth'))\n",
    "    io.savePKL(os.path.join(EM.save_path, 'manager.pkl'), EM)\n",
    "    \n",
    "    # check if new best model\n",
    "    if epoch == 0 or train_loss < EM.best_loss:\n",
    "        shutil.copy(os.path.join(EM.save_path, 'checkpoint_last.pth'), os.path.join(EM.save_path, 'checkpoint_best.pth'))\n",
    "    print(\"Checkpoint saved... \")\n",
    "\n",
    "print(f\"Run completed!\")"
   ]
  },
  {
   "cell_type": "code",
   "execution_count": null,
   "id": "5eef4416-752d-4258-9f45-50f5d3999ad6",
   "metadata": {},
   "outputs": [],
   "source": [
    "#import torchvision\n",
    "#from torch.nn import functional as F\n",
    "#from torch.utils.data import sampler\n",
    "#from torch.utils.data.sampler import RandomSampler\n",
    "#import pprint"
   ]
  },
  {
   "cell_type": "code",
   "execution_count": null,
   "id": "virgin-kennedy",
   "metadata": {},
   "outputs": [],
   "source": [
    "####################### EXPERIMENT SETTINGS ################################\n",
    "EXP_GROUPS = {}\n",
    "\n",
    "EXP_GROUPS['denmark'] = {\"dataset\": {'name': 'denmark', 'transform': 'rgb_normalize'},\n",
    "                         \"model\": {'name': 'lcfcn', 'base': \"fcn8_vgg16\"},\n",
    "                         \"batch_size\": 1,\n",
    "                         \"max_epoch\": 5,\n",
    "                         \"dataset_size\": {'train': 'all', 'val': 'all'},\n",
    "                         \"optimizer\": 'adam',\n",
    "                         \"lr\": 1e-5}\n",
    "\n",
    "EXP_GROUPS['denmark_debug'] = {\"dataset\": {'name': 'denmark', 'transform': 'rgb_normalize'},\n",
    "                               \"model\": {'name': 'lcfcn', 'base': \"fcn8_vgg16\"},\n",
    "                               \"batch_size\": 1,\n",
    "                               \"max_epoch\": 5,\n",
    "                               \"dataset_size\": {'train': 10, 'val': 5},\n",
    "                               \"optimizer\": 'adam',\n",
    "                               \"lr\": 1e-5}\n",
    "\n",
    "EXP_GROUPS['denmark_cob'] = {\"dataset\": {'name': 'denmark', 'transform': 'rgb_normalize'},\n",
    "                             \"model\": {'name': 'cob', 'base': \"fcn8_vgg16\"},\n",
    "                             \"batch_size\": 1,\n",
    "                             \"max_epoch\": 5,\n",
    "                             \"dataset_size\": {'train': 'all', 'val': 'all'},\n",
    "                             \"optimizer\": 'adam',\n",
    "                             \"lr\": 1e-5}\n",
    "\n",
    "EXP_GROUPS['denmark_sup'] = {\"dataset\": {'name': 'denmark', 'transform': 'rgb_normalize'},\n",
    "                             \"model\": {'name': 'supervised', 'base': \"unet\"},\n",
    "                             \"batch_size\": 1,\n",
    "                             \"max_epoch\": 5,\n",
    "                             \"dataset_size\": {'train': 'all', 'val': 'all'},\n",
    "                             \"optimizer\": 'adam',\n",
    "                             \"lr\": 1e-5}"
   ]
  },
  {
   "cell_type": "code",
   "execution_count": null,
   "id": "ea2c8a10-bdcd-47b2-a789-666443af3cfa",
   "metadata": {},
   "outputs": [],
   "source": []
  }
 ],
 "metadata": {
  "kernelspec": {
   "display_name": "Python 3",
   "language": "python",
   "name": "python3"
  },
  "language_info": {
   "codemirror_mode": {
    "name": "ipython",
    "version": 3
   },
   "file_extension": ".py",
   "mimetype": "text/x-python",
   "name": "python",
   "nbconvert_exporter": "python",
   "pygments_lexer": "ipython3",
   "version": "3.8.5"
  }
 },
 "nbformat": 4,
 "nbformat_minor": 5
}
