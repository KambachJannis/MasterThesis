{
 "cells": [
  {
   "cell_type": "code",
   "execution_count": null,
   "id": "computational-disposal",
   "metadata": {},
   "outputs": [],
   "source": [
    "# Torch\n",
    "import torch\n",
    "import torchvision\n",
    "from torch.backends import cudnn\n",
    "from torch.nn import functional as F\n",
    "from torch.utils.data import sampler\n",
    "from torch.utils.data import DataLoader\n",
    "from torch.utils.data.sampler import RandomSampler\n",
    "cudnn.benchmark = True\n",
    "# Data Handling\n",
    "import numpy as np\n",
    "import pandas as pd\n",
    "# System\n",
    "import os\n",
    "import pprint\n",
    "import itertools\n",
    "# Custom\n",
    "import models\n",
    "import datasets\n",
    "from helpers import utils"
   ]
  },
  {
   "cell_type": "markdown",
   "id": "encouraging-billion",
   "metadata": {},
   "source": [
    "# Model Training Framework\n",
    "\n",
    "This Notebook works for all model configurations detailed in the experiment settings below\n",
    "\n",
    "Experiment Settings below could eventually be removed, not the best way of putting it rn with the dictionary tbh\n"
   ]
  },
  {
   "cell_type": "code",
   "execution_count": null,
   "id": "virgin-kennedy",
   "metadata": {},
   "outputs": [],
   "source": [
    "########################## FILE SYSTEM SETTINGS ###########################\n",
    "\n",
    "savedir_base = \"/home/jovyan/work/runs/\"\n",
    "datadir = \"/home/jovyan/work/DENMARK/256x256\"\n",
    "\n",
    "####################### EXPERIMENT SETTINGS ################################\n",
    "EXP_GROUPS = {}\n",
    "\n",
    "EXP_GROUPS['denmark'] = {\"dataset\": {'name': 'denmark', 'transform': 'rgb_normalize'},\n",
    "                         \"model\": {'name': 'lcfcn', 'base': \"fcn8_vgg16\"},\n",
    "                         \"batch_size\": 1,\n",
    "                         \"max_epoch\": 5,\n",
    "                         \"dataset_size\": {'train': 'all', 'val': 'all'},\n",
    "                         \"optimizer\": 'adam',\n",
    "                         \"lr\": 1e-5}\n",
    "\n",
    "EXP_GROUPS['denmark_debug'] = {\"dataset\": {'name': 'denmark', 'transform': 'rgb_normalize'},\n",
    "                               \"model\": {'name': 'lcfcn', 'base': \"fcn8_vgg16\"},\n",
    "                               \"batch_size\": 1,\n",
    "                               \"max_epoch\": 5,\n",
    "                               \"dataset_size\": {'train': 10, 'val': 5},\n",
    "                               \"optimizer\": 'adam',\n",
    "                               \"lr\": 1e-5}\n",
    "\n",
    "EXP_GROUPS['denmark_cob'] = {\"dataset\": {'name': 'denmark', 'transform': 'rgb_normalize'},\n",
    "                             \"model\": {'name': 'cob', 'base': \"fcn8_vgg16\"},\n",
    "                             \"batch_size\": 1,\n",
    "                             \"max_epoch\": 5,\n",
    "                             \"dataset_size\": {'train': 'all', 'val': 'all'},\n",
    "                             \"optimizer\": 'adam',\n",
    "                             \"lr\": 1e-5}\n",
    "\n",
    "EXP_GROUPS['denmark_sup'] = {\"dataset\": {'name': 'denmark', 'transform': 'rgb_normalize'},\n",
    "                             \"model\": {'name': 'supervised', 'base': \"unet\"},\n",
    "                             \"batch_size\": 1,\n",
    "                             \"max_epoch\": 5,\n",
    "                             \"dataset_size\": {'train': 'all', 'val': 'all'},\n",
    "                             \"optimizer\": 'sgd',\n",
    "                             \"lr\": 1e-5}\n",
    "\n",
    "############################### SELECT EXPERIMENT ####################################\n",
    "\n",
    "exp_dict = EXP_GROUPS['denmark_sup']\n",
    "pprint.pprint(exp_dict)"
   ]
  },
  {
   "cell_type": "markdown",
   "id": "equipped-blend",
   "metadata": {},
   "source": [
    "## Saving Location\n",
    "\n",
    "Create new folder for the selected experiment and save the experiment dict"
   ]
  },
  {
   "cell_type": "code",
   "execution_count": null,
   "id": "graduate-think",
   "metadata": {},
   "outputs": [],
   "source": [
    "exp_id = utils.hashDict(exp_dict) #generate ID by hashing experiment dict\n",
    "savedir = os.path.join(savedir_base, exp_id)\n",
    "\n",
    "# Backup and Overwrite previous experiment with same name\n",
    "utils.deleteExperiment(savedir, backup_flag = True)\n",
    "print(\"Cleared previous experiment...\")\n",
    "\n",
    "os.makedirs(savedir, exist_ok=True)\n",
    "utils.saveJSON(os.path.join(savedir, \"exp_dict.json\"), exp_dict)\n",
    "print(\"Experiment saved in %s\" % savedir)"
   ]
  },
  {
   "cell_type": "markdown",
   "id": "aboriginal-tobago",
   "metadata": {},
   "source": [
    "## Data\n",
    "\n",
    "Introduce datasets and dataloaders"
   ]
  },
  {
   "cell_type": "code",
   "execution_count": null,
   "id": "controversial-submission",
   "metadata": {},
   "outputs": [],
   "source": [
    "train_set = datasets.getDataset(dataset = exp_dict[\"dataset\"][\"name\"],\n",
    "                                split = \"train\",\n",
    "                                datadir = datadir,\n",
    "                                transform = exp_dict['dataset']['transform'],\n",
    "                                dataset_size = exp_dict['dataset_size'])\n",
    "\n",
    "val_set = datasets.getDataset(dataset = exp_dict[\"dataset\"][\"name\"],\n",
    "                              split = \"val\",\n",
    "                              datadir = datadir,\n",
    "                              transform = exp_dict['dataset']['transform'],\n",
    "                              dataset_size = exp_dict['dataset_size'])\n",
    "\n",
    "train_sampler = torch.utils.data.RandomSampler(train_set)\n",
    "train_loader = DataLoader(train_set,\n",
    "                          sampler = train_sampler,\n",
    "                          batch_size = exp_dict[\"batch_size\"], \n",
    "                          drop_last = True, \n",
    "                          num_workers = 1)\n",
    "\n",
    "val_sampler = torch.utils.data.SequentialSampler(val_set)\n",
    "val_loader = DataLoader(val_set,\n",
    "                        sampler = val_sampler,\n",
    "                        batch_size = 1,\n",
    "                        num_workers = 1)"
   ]
  },
  {
   "cell_type": "code",
   "execution_count": null,
   "id": "d4a52ff0-82d0-469d-a769-ef1a50d667b1",
   "metadata": {},
   "outputs": [],
   "source": [
    "# Mean computation, maybe try out\n",
    "means = []\n",
    "stds = []\n",
    "\n",
    "for i, data in enumerate(train_loader, 0):\n",
    "    # shape (batch_size, 3, height, width)\n",
    "    numpy_image = data['images'].numpy()\n",
    "    \n",
    "    # shape (3,)\n",
    "    batch_mean = np.mean(numpy_image, axis=(0,2,3))\n",
    "    batch_std = np.std(numpy_image, axis=(0,2,3))\n",
    "    \n",
    "    means.append(batch_mean)\n",
    "    stds.append(batch_std)\n",
    "\n",
    "# shape (num_iterations, 3) -> (mean across 0th axis) -> shape (3,)\n",
    "means = np.array(means).mean(axis=0)\n",
    "stds = np.array(stds).mean(axis=0)\n",
    "print(f\"Means: {means} \\n SDs: {stds}\")"
   ]
  },
  {
   "cell_type": "markdown",
   "id": "right-uncertainty",
   "metadata": {},
   "source": [
    "## Model\n",
    "\n",
    "Load Model and underlying base model"
   ]
  },
  {
   "cell_type": "code",
   "execution_count": null,
   "id": "amazing-strip",
   "metadata": {},
   "outputs": [],
   "source": [
    "n_classes = train_set.n_classes\n",
    "model = models.getModel(exp_dict, n_classes).cuda()"
   ]
  },
  {
   "cell_type": "markdown",
   "id": "instant-despite",
   "metadata": {},
   "source": [
    "## Experiment Run Management \n",
    "\n",
    "Resume experiment if a previous score_list exists or start a new one from epoch 0 if not"
   ]
  },
  {
   "cell_type": "code",
   "execution_count": null,
   "id": "acknowledged-bangladesh",
   "metadata": {},
   "outputs": [],
   "source": [
    "model_path = os.path.join(savedir, \"model.pth\")\n",
    "score_list_path = os.path.join(savedir, \"score_list.pkl\")\n",
    "\n",
    "if os.path.exists(score_list_path): #resume\n",
    "    model.loadStateDict(utils.loadTorch(model_path))\n",
    "    score_list = utils.loadPKL(score_list_path)\n",
    "    s_epoch = score_list[-1]['epoch'] + 1\n",
    "    print(f\"Resuming previous experiment fom epoch {s_epoch}\")\n",
    "else: #restart\n",
    "    score_list = []\n",
    "    s_epoch = 0\n",
    "    print(f\"Beginning new experiment from epoch {s_epoch}\")"
   ]
  },
  {
   "cell_type": "markdown",
   "id": "established-marine",
   "metadata": {},
   "source": [
    "## Main Epoch Loop\n",
    "\n",
    "Each epoch conists of training, validation, updating the statstics and saving the best as well as the most recent model and validation statistics"
   ]
  },
  {
   "cell_type": "code",
   "execution_count": null,
   "id": "departmental-notice",
   "metadata": {},
   "outputs": [],
   "source": [
    "for e in range(s_epoch, exp_dict['max_epoch']):\n",
    "    # Validate only at the start of each cycle\n",
    "    score_dict = {}\n",
    "    # Train the model\n",
    "    train_dict = model.trainOnLoader(model, train_loader)\n",
    "    print(\"Training done...\")\n",
    "    # Validate and Visualize the model\n",
    "    val_dict = model.valOnLoader(val_loader, savedir_images=os.path.join(savedir, \"images\"), n_images=30)\n",
    "    print(\"Validation done..\")\n",
    "    \n",
    "    # Update score_dict and add to score_list\n",
    "    score_dict.update(val_dict)\n",
    "    score_dict.update(train_dict)\n",
    "    score_dict[\"epoch\"] = len(score_list)\n",
    "    score_list += [score_dict]\n",
    "\n",
    "    # Report score_list\n",
    "    score_df = pd.DataFrame(score_list)\n",
    "    print(\"\\n\", score_df.tail(), \"\\n\")\n",
    "    \n",
    "    # Save Model and score_list\n",
    "    utils.saveTorch(model_path, model.getStateDict())\n",
    "    utils.savePKL(score_list_path, score_list)\n",
    "    print(\"Checkpoint Saved: %s\" % savedir)\n",
    "\n",
    "    # Save best Checkpoint\n",
    "    if e == 0 or (score_dict.get(\"val_score\", 0) > score_df[\"val_score\"][:-1].fillna(0).max()):\n",
    "        utils.savePKL(os.path.join(savedir, \"score_list_best.pkl\"), score_list)\n",
    "        utils.saveTorch(os.path.join(savedir, \"model_best.pth\"), model.getStateDict())\n",
    "        print(\"Saved Best: %s\" % savedir)\n",
    "    \n",
    "    print(f\"Epoch {e+1} of {exp_dict['max_epoch'] - s_epoch} completed.\")\n",
    "\n",
    "print(f\"Experiment completed!\")"
   ]
  },
  {
   "cell_type": "code",
   "execution_count": 1,
   "id": "6e037cd8-ba43-4198-b8b1-d911ac2ae3a1",
   "metadata": {},
   "outputs": [],
   "source": [
    "import torch\n",
    "probs = torch.load('probs.pt')\n",
    "shape = torch.load('shape.pt')"
   ]
  },
  {
   "cell_type": "code",
   "execution_count": 2,
   "id": "6348a570-a61f-462a-bc91-3890392b96d8",
   "metadata": {},
   "outputs": [
    {
     "data": {
      "text/plain": [
       "torch.Size([1, 1, 256, 256])"
      ]
     },
     "execution_count": 2,
     "metadata": {},
     "output_type": "execute_result"
    }
   ],
   "source": [
    "probs.shape"
   ]
  },
  {
   "cell_type": "code",
   "execution_count": 9,
   "id": "5eef4416-752d-4258-9f45-50f5d3999ad6",
   "metadata": {},
   "outputs": [
    {
     "data": {
      "text/plain": [
       "array([0, 1])"
      ]
     },
     "execution_count": 9,
     "metadata": {},
     "output_type": "execute_result"
    }
   ],
   "source": [
    "import numpy as np\n",
    "np.unique(shape.cpu().numpy())"
   ]
  },
  {
   "cell_type": "code",
   "execution_count": null,
   "id": "7e2bf348-36b6-4c52-a70b-1e0673b50e22",
   "metadata": {},
   "outputs": [],
   "source": [
    "import torch\n",
    "torch.backends.cuda.matmul.allow_tf32 = True\n",
    "torch.backends.cudnn.benchmark = True\n",
    "torch.backends.cudnn.deterministic = False\n",
    "torch.backends.cudnn.allow_tf32 = True\n",
    "data = torch.randn([1, 128, 128, 128], dtype=torch.float, device='cuda', requires_grad=True)\n",
    "net = torch.nn.Conv2d(128, 128, kernel_size=[3, 3], padding=[1, 1], stride=[1, 1], dilation=[1, 1], groups=1)\n",
    "net = net.cuda().float()\n",
    "out = net(data)\n",
    "out.backward(torch.randn_like(out))\n",
    "torch.cuda.synchronize()"
   ]
  },
  {
   "cell_type": "code",
   "execution_count": null,
   "id": "33e28f80-a9d6-44c2-be75-ab9b94c9145d",
   "metadata": {},
   "outputs": [],
   "source": []
  }
 ],
 "metadata": {
  "kernelspec": {
   "display_name": "Python 3",
   "language": "python",
   "name": "python3"
  },
  "language_info": {
   "codemirror_mode": {
    "name": "ipython",
    "version": 3
   },
   "file_extension": ".py",
   "mimetype": "text/x-python",
   "name": "python",
   "nbconvert_exporter": "python",
   "pygments_lexer": "ipython3",
   "version": "3.8.5"
  }
 },
 "nbformat": 4,
 "nbformat_minor": 5
}
