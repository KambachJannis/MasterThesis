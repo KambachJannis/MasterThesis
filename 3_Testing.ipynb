{
 "cells": [
  {
   "cell_type": "code",
   "execution_count": 1,
   "id": "9d6b4323-6e11-4066-9d1b-438f2d4c7022",
   "metadata": {},
   "outputs": [],
   "source": [
    "# Torch\n",
    "import torch\n",
    "from torch.utils.data import DataLoader\n",
    "from torch.utils.data.sampler import RandomSampler\n",
    "# Data Handling\n",
    "import numpy as np\n",
    "import pandas as pd\n",
    "# System\n",
    "import os\n",
    "import pprint\n",
    "import itertools\n",
    "# Custom\n",
    "import models\n",
    "import datasets\n",
    "from helpers import utils"
   ]
  },
  {
   "cell_type": "code",
   "execution_count": 2,
   "id": "4fd0f3cf-96d2-4e4f-9ef2-a5f723b4f5a5",
   "metadata": {},
   "outputs": [
    {
     "name": "stdout",
     "output_type": "stream",
     "text": [
      "{'batch_size': 1,\n",
      " 'dataset': {'name': 'denmark', 'transform': 'rgb_normalize'},\n",
      " 'dataset_size': {'train': 'all', 'val': 'all'},\n",
      " 'lr': 1e-05,\n",
      " 'max_epoch': 5,\n",
      " 'model': {'base': 'fcn8_vgg16', 'name': 'cob'},\n",
      " 'optimizer': 'adam'}\n"
     ]
    }
   ],
   "source": [
    "########################## FILE SYSTEM SETTINGS ###########################\n",
    "\n",
    "savedir_base = \"/home/jovyan/work/runs/LCFCN\"\n",
    "datadir = \"/home/jovyan/work/DENMARK/250x250\"\n",
    "\n",
    "####################### EXPERIMENT SETTINGS ################################\n",
    "\n",
    "experiment_id = \"cob_test\"\n",
    "run_path = os.path.join(savedir_base, experiment_id)\n",
    "exp_dict = utils.loadJSON(os.path.join(run_path, 'exp_dict.json'))\n",
    "\n",
    "pprint.pprint(exp_dict)"
   ]
  },
  {
   "cell_type": "code",
   "execution_count": 3,
   "id": "7d01c7b7-38a0-48db-a414-89490410a67c",
   "metadata": {},
   "outputs": [
    {
     "name": "stdout",
     "output_type": "stream",
     "text": [
      "Testing Data loaded...\n"
     ]
    }
   ],
   "source": [
    "dataset_size = {'test': 10}\n",
    "batch_size = 1\n",
    "\n",
    "test_set = datasets.getDataset(dataset = exp_dict[\"dataset\"][\"name\"],\n",
    "                               split = \"test\",\n",
    "                               datadir = datadir,\n",
    "                               transform = exp_dict['dataset']['transform'],\n",
    "                               dataset_size = dataset_size)\n",
    "\n",
    "test_sampler = torch.utils.data.SequentialSampler(test_set)\n",
    "\n",
    "test_loader = DataLoader(test_set,\n",
    "                         sampler = test_sampler,\n",
    "                         batch_size = batch_size,\n",
    "                         num_workers = 2)\n",
    "\n",
    "print(\"Testing Data loaded...\")"
   ]
  },
  {
   "cell_type": "code",
   "execution_count": 4,
   "id": "07d3bd7f-34c7-4dcf-a832-b7271438b3e5",
   "metadata": {},
   "outputs": [
    {
     "name": "stdout",
     "output_type": "stream",
     "text": [
      "Model loaded...\n"
     ]
    }
   ],
   "source": [
    "n_classes = test_set.n_classes\n",
    "model = models.getModel(exp_dict, n_classes).cuda()\n",
    "\n",
    "run_model = utils.loadTorch(os.path.join(run_path, 'model_best.pth'))\n",
    "model.loadStateDict(run_model)\n",
    "\n",
    "print(\"Model loaded...\")"
   ]
  },
  {
   "cell_type": "code",
   "execution_count": 67,
   "id": "f35cde59-da57-4b0c-a5e5-208ba2ca26ca",
   "metadata": {},
   "outputs": [],
   "source": [
    "from models.losses import cob_loss\n",
    "stop = True\n",
    "\n",
    "with torch.no_grad():\n",
    "    for i, batch in enumerate(test_loader):\n",
    "        if stop:\n",
    "            # Declare Eval Mode\n",
    "            model.eval()\n",
    "\n",
    "            # Load Data to GPU\n",
    "            images = batch[\"images\"].cuda()\n",
    "            points = batch[\"points\"].long().cuda()\n",
    "            shapes = batch[\"shapes\"]\n",
    "\n",
    "            # Forward Prop\n",
    "            logits = model.model_base.forward(images)\n",
    "\n",
    "            # Sigmoid Function\n",
    "            probs = logits.sigmoid().cpu().numpy()\n",
    "            blobs = cob_loss.getBlobs(probs=probs)\n",
    "            \n",
    "            points_numpy = points.cpu().numpy()\n",
    "            point_blobs = np.unique(blobs * points_numpy)\n",
    "            \n",
    "            if (np.unique(point_blobs) !=0 ).sum() > 1:\n",
    "                blob_mask1 = blobs==point_blobs[1]\n",
    "                blob_mask2 = blobs==point_blobs[2]\n",
    "                stop = False"
   ]
  },
  {
   "cell_type": "code",
   "execution_count": 68,
   "id": "42c7e0f8-24f9-4c36-9f03-bf55846e47f9",
   "metadata": {},
   "outputs": [],
   "source": [
    "from PIL import Image, ImageDraw\n",
    "\n",
    "flat_list1 = [item.item() for sublist in shapes[0] for item in sublist]\n",
    "flat_list2 = [item.item() for sublist in shapes[1] for item in sublist]\n",
    "flat_list3 = [item.item() for sublist in shapes[2] for item in sublist]\n",
    "\n",
    "img = Image.new('L', (250, 250), 0)\n",
    "ImageDraw.Draw(img).polygon(flat_list1, outline=1, fill=1)\n",
    "ImageDraw.Draw(img).polygon(flat_list2, outline=1, fill=1)\n",
    "ImageDraw.Draw(img).polygon(flat_list3, outline=1, fill=1)"
   ]
  },
  {
   "cell_type": "code",
   "execution_count": 69,
   "id": "bdbd94b4-7938-4d42-92dc-105834b8f9a8",
   "metadata": {},
   "outputs": [],
   "source": [
    "from helpers import haven_viz\n",
    "img_src = haven_viz.get_image(batch[\"images\"], denorm=\"rgb\")\n",
    "\n",
    "img_pred = haven_viz.mask_on_image(img_src, blobs.squeeze())\n",
    "img_pred_shape = haven_viz.mask_on_image(img_src, np.array(img).squeeze())"
   ]
  },
  {
   "cell_type": "code",
   "execution_count": 70,
   "id": "be153dce-6f9f-496e-9951-b63b6b4cae3e",
   "metadata": {},
   "outputs": [],
   "source": [
    "haven_viz.save_image('test.jpg', img_pred)\n",
    "haven_viz.save_image('test_shapes.jpg', img_pred_shape)"
   ]
  },
  {
   "cell_type": "code",
   "execution_count": 61,
   "id": "5257b23d-d9bd-4881-9625-764f8126348d",
   "metadata": {},
   "outputs": [
    {
     "data": {
      "text/plain": [
       "250"
      ]
     },
     "execution_count": 61,
     "metadata": {},
     "output_type": "execute_result"
    }
   ],
   "source": [
    "import sys\n",
    "\n",
    "np.set_printoptions(threshold=sys.maxsize)\n",
    "np.array(img)"
   ]
  },
  {
   "cell_type": "code",
   "execution_count": 65,
   "id": "36913bf3-9f38-49c0-be60-e4c340d06831",
   "metadata": {},
   "outputs": [
    {
     "data": {
      "text/plain": [
       "3"
      ]
     },
     "execution_count": 65,
     "metadata": {},
     "output_type": "execute_result"
    }
   ],
   "source": [
    "len(shapes)"
   ]
  },
  {
   "cell_type": "code",
   "execution_count": null,
   "id": "ed0c5c86-1d13-47d7-931b-c884945a86ad",
   "metadata": {},
   "outputs": [],
   "source": []
  }
 ],
 "metadata": {
  "kernelspec": {
   "display_name": "Python 3",
   "language": "python",
   "name": "python3"
  },
  "language_info": {
   "codemirror_mode": {
    "name": "ipython",
    "version": 3
   },
   "file_extension": ".py",
   "mimetype": "text/x-python",
   "name": "python",
   "nbconvert_exporter": "python",
   "pygments_lexer": "ipython3",
   "version": "3.8.5"
  }
 },
 "nbformat": 4,
 "nbformat_minor": 5
}
