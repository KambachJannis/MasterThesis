{
 "cells": [
  {
   "cell_type": "markdown",
   "id": "0ae71f0c-dcf4-4344-bc1f-e33a679cde29",
   "metadata": {},
   "source": [
    "# MODEL TESTING\n",
    "\n",
    "The purpose of this notebook is to test different model learning configurations. Runs are saved in the standard _runs_ directory and can be referenced by their unique ID (directory name). Each run-directory contains the following files from training:\n",
    "- manager.pkl: run manager object containing all settings of the model run - see implementation _/helpers/run_manager.py_ for details\n",
    "- checkpoint_last.pth: dict containing the most recent state dict for both the model and optimizer (keys: epoch, model, optimizer)\n",
    "- checkpoint_best.pth: same dict as above, but the best performing model over the entire run based on loss\n",
    "- ... and randomly named files from the tensorboard summary writer"
   ]
  },
  {
   "cell_type": "code",
   "execution_count": 1,
   "id": "9d6b4323-6e11-4066-9d1b-438f2d4c7022",
   "metadata": {},
   "outputs": [],
   "source": [
    "import torch\n",
    "import torchvision\n",
    "from torchvision import transforms\n",
    "from torch.utils.data import DataLoader\n",
    "from torch.utils.tensorboard import SummaryWriter\n",
    "\n",
    "import os\n",
    "import shutil\n",
    "import numpy as np\n",
    "import pandas as pd\n",
    "import random\n",
    "\n",
    "import models\n",
    "import datasets\n",
    "from helpers import io, run_manager, tester"
   ]
  },
  {
   "cell_type": "code",
   "execution_count": 2,
   "id": "4fd0f3cf-96d2-4e4f-9ef2-a5f723b4f5a5",
   "metadata": {},
   "outputs": [],
   "source": [
    "EXP_ID = \"buildings_mix_50_final\"\n",
    "\n",
    "DATA_PATH = \"/home/jovyan/work/processed/256x256\"\n",
    "SAVE_PATH = \"/home/jovyan/work/runs\"\n",
    "\n",
    "EM = io.loadPKL(os.path.join(SAVE_PATH, EXP_ID, \"manager.pkl\"))"
   ]
  },
  {
   "cell_type": "markdown",
   "id": "25b8b76d-ecc9-4165-abf8-aa4fa40880f9",
   "metadata": {},
   "source": [
    "## Load Model from Run Config"
   ]
  },
  {
   "cell_type": "code",
   "execution_count": 3,
   "id": "5d55c014-9fe7-4215-aab2-fdebf1516104",
   "metadata": {},
   "outputs": [
    {
     "name": "stdout",
     "output_type": "stream",
     "text": [
      "Model loaded...\n"
     ]
    }
   ],
   "source": [
    "model = models.getNet(EM.net_name, EM.n_classes).cuda()\n",
    "\n",
    "checkpoint = torch.load(os.path.join(EM.save_path, 'checkpoint_best.pth'))\n",
    "model.load_state_dict(checkpoint['model'])\n",
    "\n",
    "print(\"Model loaded...\")"
   ]
  },
  {
   "cell_type": "markdown",
   "id": "8d4d58b2-3ad1-4b26-bc5b-f0ab1ee5cef4",
   "metadata": {},
   "source": [
    "## Load Testing Data"
   ]
  },
  {
   "cell_type": "code",
   "execution_count": 5,
   "id": "924f937a-0d8a-41d2-a2b4-539b1bf9c346",
   "metadata": {},
   "outputs": [
    {
     "name": "stdout",
     "output_type": "stream",
     "text": [
      "Dataset sizes: \n",
      " - test: 8028\n"
     ]
    }
   ],
   "source": [
    "# load image-lists from files\n",
    "images_path = os.path.join(DATA_PATH, 'image_sets_'+EM.object_type, 'shapes.txt')\n",
    "images_list = [name.replace(\"\\n\",\"\") for name in io.readText(images_path)]\n",
    "test_size = 8028\n",
    "test_images = images_list[-test_size:]\n",
    "\n",
    "#test_images = random.sample(test_images, 16)\n",
    "\n",
    "print(f\"Dataset sizes: \\n - test: {len(test_images)}\")"
   ]
  },
  {
   "cell_type": "code",
   "execution_count": 6,
   "id": "7ce4950a-23bc-4878-89b6-cbbab0eaa7d9",
   "metadata": {},
   "outputs": [
    {
     "name": "stdout",
     "output_type": "stream",
     "text": [
      "Dataloaders ready...\n"
     ]
    }
   ],
   "source": [
    "test_set = datasets.getDataset(name = 'denmark_shapes',\n",
    "                               path = DATA_PATH,\n",
    "                               images = test_images,\n",
    "                               object_type = EM.object_type,\n",
    "                               n_classes = EM.n_classes,\n",
    "                               transform = EM.transform)\n",
    "\n",
    "test_sampler = torch.utils.data.SequentialSampler(test_set)\n",
    "\n",
    "test_loader = DataLoader(test_set, sampler = test_sampler,\n",
    "                         batch_size = 16,\n",
    "                         num_workers = 2)\n",
    "\n",
    "print(\"Dataloaders ready...\")"
   ]
  },
  {
   "cell_type": "markdown",
   "id": "cc3d4dcc-4a94-44f7-9d9e-a652ed3715e7",
   "metadata": {},
   "source": [
    "## Run Tests\n",
    "\n",
    "Currently supported metrics are:\n",
    "- mean Intersection-over-Union (_mIoU_)\n",
    "- Dice-Score (_dice_)\n",
    "- Pixel Accuracy (_pAccuracy_)"
   ]
  },
  {
   "cell_type": "code",
   "execution_count": 7,
   "id": "e293a539-acf5-424e-a5d2-e0f39d1c5cd2",
   "metadata": {},
   "outputs": [
    {
     "data": {
      "application/vnd.jupyter.widget-view+json": {
       "model_id": "97949c781b304d45ab8eff051ea81bfe",
       "version_major": 2,
       "version_minor": 0
      },
      "text/plain": [
       "  0%|          | 0/502 [00:00<?, ?it/s]"
      ]
     },
     "metadata": {},
     "output_type": "display_data"
    },
    {
     "data": {
      "application/vnd.jupyter.widget-view+json": {
       "model_id": "bf97ff97306f404586b89bdb30981a3d",
       "version_major": 2,
       "version_minor": 0
      },
      "text/plain": [
       "  0%|          | 0/502 [00:00<?, ?it/s]"
      ]
     },
     "metadata": {},
     "output_type": "display_data"
    },
    {
     "data": {
      "application/vnd.jupyter.widget-view+json": {
       "model_id": "3917f2e2cb79488881c1687f6f8d1d2e",
       "version_major": 2,
       "version_minor": 0
      },
      "text/plain": [
       "  0%|          | 0/502 [00:00<?, ?it/s]"
      ]
     },
     "metadata": {},
     "output_type": "display_data"
    },
    {
     "name": "stdout",
     "output_type": "stream",
     "text": [
      "       mIoU      dice  pAccuracy\n",
      "0  0.402979  0.570862    0.82266\n"
     ]
    }
   ],
   "source": [
    "metric_list = [\"mIoU\", \"dice\", \"pAccuracy\"] #mIoU, dice, pAccuracy\n",
    "\n",
    "results_dict = tester.testModel(model, test_loader, metric_list)\n",
    "\n",
    "EM.addTest(results_dict)\n",
    "#io.savePKL(os.path.join(EM.save_path, 'manager.pkl'), EM)\n",
    "\n",
    "print(pd.DataFrame(results_dict, index=[0]))"
   ]
  },
  {
   "cell_type": "code",
   "execution_count": null,
   "id": "77cfa925-4f2c-488e-ac43-57aefc787ff1",
   "metadata": {},
   "outputs": [],
   "source": [
    "TB = SummaryWriter(EM.save_path)\n",
    "tester.imagesToTB(model, test_loader, TB, EXP_ID+'_2', include_cob = True, amount_batches = 1)\n",
    "TB.close()"
   ]
  },
  {
   "cell_type": "markdown",
   "id": "c330c725-b27d-4f75-9ae3-d8952423350f",
   "metadata": {},
   "source": [
    "---------\n",
    "# MODEL OUTPUT GENERATOR\n",
    "\n",
    "Intended to generate model outputs for large amounts of images to avoid forward model processing in hybrid approach and be able to cache data."
   ]
  },
  {
   "cell_type": "code",
   "execution_count": null,
   "id": "96dbd39d-a2b4-4a67-bbd2-957e8fdaa086",
   "metadata": {},
   "outputs": [],
   "source": [
    "EXP_ID = \"trees_cob_full_final\"\n",
    "\n",
    "DATA_PATH = \"/home/jovyan/work/processed/256x256\"\n",
    "SAVE_PATH = os.path.join(DATA_PATH, \"model_output_trees\")\n",
    "os.mkdir(SAVE_PATH)\n",
    "\n",
    "EM = io.loadPKL(os.path.join(\"/home/jovyan/work/runs\", EXP_ID, \"manager.pkl\"))"
   ]
  },
  {
   "cell_type": "code",
   "execution_count": null,
   "id": "e40afda9-3029-46e2-bef2-b017b09bb3c5",
   "metadata": {},
   "outputs": [],
   "source": [
    "model = models.getNet(EM.net_name, EM.n_classes).cuda()\n",
    "\n",
    "checkpoint = torch.load(os.path.join(EM.save_path, 'checkpoint_best.pth'))\n",
    "model.load_state_dict(checkpoint['model'])\n",
    "\n",
    "print(\"Model loaded...\")"
   ]
  },
  {
   "cell_type": "code",
   "execution_count": null,
   "id": "d6989fd2-791e-4830-8623-075e406dbeb7",
   "metadata": {},
   "outputs": [],
   "source": [
    "# load image-lists from files\n",
    "images_path = os.path.join(DATA_PATH, 'image_sets_'+EM.object_type, 'all.txt')\n",
    "images_list = [name.replace(\"\\n\",\"\") for name in io.readText(images_path)]\n",
    "\n",
    "print(f\"Dataset sizes: \\n - test: {len(images_list)}\")"
   ]
  },
  {
   "cell_type": "code",
   "execution_count": null,
   "id": "5f780156-9385-48da-8bf0-10ae4b733951",
   "metadata": {},
   "outputs": [],
   "source": [
    "dataset = datasets.getDataset(name = 'denmark_all',\n",
    "                               path = DATA_PATH,\n",
    "                               images = images_list,\n",
    "                               object_type = EM.object_type,\n",
    "                               n_classes = EM.n_classes,\n",
    "                               transform = EM.transform)\n",
    "\n",
    "sampler = torch.utils.data.SequentialSampler(dataset)\n",
    "\n",
    "loader = DataLoader(dataset, sampler = sampler,\n",
    "                         batch_size = 32,\n",
    "                         num_workers = 2)\n",
    "\n",
    "print(\"Dataloaders ready...\")"
   ]
  },
  {
   "cell_type": "code",
   "execution_count": null,
   "id": "251bcd95-5993-480d-a39c-b42694782130",
   "metadata": {},
   "outputs": [],
   "source": [
    "tester.generateOutput(model, loader, SAVE_PATH)"
   ]
  },
  {
   "cell_type": "markdown",
   "id": "fa5584f6-650a-452e-b0ed-99953ab936b0",
   "metadata": {},
   "source": [
    "# EXPLORATION REGION"
   ]
  },
  {
   "cell_type": "code",
   "execution_count": null,
   "id": "efa9a0b8-9dcb-40e1-88aa-cfbeb41f08d9",
   "metadata": {},
   "outputs": [],
   "source": [
    "EM.test_dicts"
   ]
  },
  {
   "cell_type": "code",
   "execution_count": null,
   "id": "46ac35a4-c65d-4a74-b63f-6eae6251bd91",
   "metadata": {},
   "outputs": [],
   "source": [
    "EM.id"
   ]
  },
  {
   "cell_type": "code",
   "execution_count": null,
   "id": "523f2cfa-3983-453e-b93b-55d9b758aa7b",
   "metadata": {},
   "outputs": [],
   "source": [
    "io.savePKL(os.path.join(EM.save_path, 'manager.pkl'), EM)"
   ]
  },
  {
   "cell_type": "code",
   "execution_count": null,
   "id": "94f56eed-8630-4d25-999d-389fc5a16c5b",
   "metadata": {},
   "outputs": [],
   "source": []
  }
 ],
 "metadata": {
  "kernelspec": {
   "display_name": "Python 3",
   "language": "python",
   "name": "python3"
  },
  "language_info": {
   "codemirror_mode": {
    "name": "ipython",
    "version": 3
   },
   "file_extension": ".py",
   "mimetype": "text/x-python",
   "name": "python",
   "nbconvert_exporter": "python",
   "pygments_lexer": "ipython3",
   "version": "3.8.5"
  }
 },
 "nbformat": 4,
 "nbformat_minor": 5
}
