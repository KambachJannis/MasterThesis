{
 "cells": [
  {
   "cell_type": "code",
   "execution_count": 1,
   "id": "9d6b4323-6e11-4066-9d1b-438f2d4c7022",
   "metadata": {},
   "outputs": [],
   "source": [
    "# Torch\n",
    "import torch\n",
    "from torch.utils.data import DataLoader\n",
    "from torch.utils.data.sampler import RandomSampler\n",
    "# Data Handling\n",
    "import numpy as np\n",
    "import pandas as pd\n",
    "# System\n",
    "import os\n",
    "import pprint\n",
    "import itertools\n",
    "# Custom\n",
    "import models\n",
    "import datasets\n",
    "from helpers import utils"
   ]
  },
  {
   "cell_type": "code",
   "execution_count": 2,
   "id": "4fd0f3cf-96d2-4e4f-9ef2-a5f723b4f5a5",
   "metadata": {},
   "outputs": [
    {
     "name": "stdout",
     "output_type": "stream",
     "text": [
      "{'batch_size': 1,\n",
      " 'dataset': {'name': 'denmark', 'transform': 'rgb_normalize'},\n",
      " 'dataset_size': {'train': 'all', 'val': 'all'},\n",
      " 'lr': 1e-05,\n",
      " 'max_epoch': 5,\n",
      " 'model': {'base': 'fcn8_vgg16', 'name': 'cob'},\n",
      " 'optimizer': 'adam'}\n"
     ]
    }
   ],
   "source": [
    "########################## FILE SYSTEM SETTINGS ###########################\n",
    "\n",
    "savedir_base = \"/home/jovyan/work/runs\"\n",
    "datadir = \"/home/jovyan/work/DENMARK/250x250\"\n",
    "\n",
    "####################### EXPERIMENT SETTINGS ################################\n",
    "\n",
    "experiment_id = \"8bd70e101945e82afea8a5021b195720\"\n",
    "run_path = os.path.join(savedir_base, experiment_id)\n",
    "exp_dict = utils.loadJSON(os.path.join(run_path, 'exp_dict.json'))\n",
    "\n",
    "pprint.pprint(exp_dict)"
   ]
  },
  {
   "cell_type": "code",
   "execution_count": 3,
   "id": "7d01c7b7-38a0-48db-a414-89490410a67c",
   "metadata": {},
   "outputs": [
    {
     "name": "stdout",
     "output_type": "stream",
     "text": [
      "Testing Data loaded...\n"
     ]
    }
   ],
   "source": [
    "dataset_size = {'test': 'all'}\n",
    "batch_size = 1\n",
    "\n",
    "test_set = datasets.getDataset(dataset = exp_dict[\"dataset\"][\"name\"],\n",
    "                               split = \"test\",\n",
    "                               datadir = datadir,\n",
    "                               transform = exp_dict['dataset']['transform'],\n",
    "                               dataset_size = dataset_size)\n",
    "\n",
    "test_sampler = torch.utils.data.SequentialSampler(test_set)\n",
    "\n",
    "test_loader = DataLoader(test_set,\n",
    "                         sampler = test_sampler,\n",
    "                         batch_size = batch_size,\n",
    "                         num_workers = 2)\n",
    "\n",
    "print(\"Testing Data loaded...\")"
   ]
  },
  {
   "cell_type": "code",
   "execution_count": 4,
   "id": "07d3bd7f-34c7-4dcf-a832-b7271438b3e5",
   "metadata": {},
   "outputs": [
    {
     "name": "stdout",
     "output_type": "stream",
     "text": [
      "Model loaded...\n"
     ]
    }
   ],
   "source": [
    "n_classes = test_set.n_classes\n",
    "model = models.getModel(exp_dict, n_classes).cuda()\n",
    "\n",
    "run_model = utils.loadTorch(os.path.join(run_path, 'model_best.pth'))\n",
    "model.loadStateDict(run_model)\n",
    "\n",
    "print(\"Model loaded...\")"
   ]
  },
  {
   "cell_type": "code",
   "execution_count": 5,
   "id": "ce4bb422-b566-4fa8-9550-1979ae252e7c",
   "metadata": {},
   "outputs": [
    {
     "name": "stderr",
     "output_type": "stream",
     "text": [
      "Testing. mIoU: 0.1677: 100%|██████████| 63/63 [00:04<00:00, 14.06it/s]\n"
     ]
    }
   ],
   "source": [
    "test_dict = model.testOnLoader(test_loader, savedir_images=os.path.join(run_path, \"images\"), n_images=30)"
   ]
  },
  {
   "cell_type": "markdown",
   "id": "fa5584f6-650a-452e-b0ed-99953ab936b0",
   "metadata": {},
   "source": [
    "# EXPERIMENT REGION"
   ]
  },
  {
   "cell_type": "code",
   "execution_count": null,
   "id": "f35cde59-da57-4b0c-a5e5-208ba2ca26ca",
   "metadata": {},
   "outputs": [],
   "source": [
    "from models.losses import cob_loss\n",
    "stop = True\n",
    "\n",
    "with torch.no_grad():\n",
    "    for i, batch in enumerate(test_loader):\n",
    "        if stop:\n",
    "            # Declare Eval Mode\n",
    "            model.eval()\n",
    "\n",
    "            # Load Data to GPU\n",
    "            images = batch[\"images\"].cuda()\n",
    "            points = batch[\"points\"].long().cuda()\n",
    "            shapes = batch[\"shapes\"]\n",
    "            idx = batch[\"meta\"][\"index\"]\n",
    "\n",
    "            # Forward Prop\n",
    "            logits = model.model_base.forward(images)\n",
    "\n",
    "            # Sigmoid Function\n",
    "            probs = logits.sigmoid().cpu().numpy()\n",
    "            blobs = cob_loss.getBlobs(probs=probs)\n",
    "            \n",
    "            points_numpy = points.cpu().numpy()\n",
    "            point_blobs = np.unique(blobs * points_numpy)\n",
    "            \n",
    "            if (np.unique(point_blobs) !=0 ).sum() > 1:\n",
    "                blob_mask1 = blobs==point_blobs[1]\n",
    "                blob_mask2 = blobs==point_blobs[2]\n",
    "                \n",
    "                model.visOnBatch(batch, \"og.jpg\")\n",
    "                stop = False"
   ]
  },
  {
   "cell_type": "code",
   "execution_count": null,
   "id": "d6ea02f4-c93b-4ecc-a775-ee08cc0245ba",
   "metadata": {},
   "outputs": [],
   "source": [
    "from PIL import Image, ImageDraw\n",
    "\n",
    "for shape in shapes:\n",
    "    flat_list = [item.item() for sublist in shape for item in sublist]\n",
    "    img = Image.new('L', (250, 250), 0)\n",
    "    ImageDraw.Draw(img).polygon(flat_list, outline=1, fill=1)\n",
    "    shape_numpy = np.array(img)\n",
    "    shape_mask = shape_numpy == 1\n",
    "    \n",
    "    blob_ids = np.unique(blobs * shape_mask)\n",
    "    blob_ids = blob_ids[blob_ids != 0]\n",
    "    \n",
    "    print(blob_ids)\n",
    "    \n",
    "    running_iou = 0\n",
    "    if len(blob_ids) == 0:\n",
    "        iou_score = 0\n",
    "    else:\n",
    "        blob_masks = []\n",
    "        for blob in blob_ids:\n",
    "            blob_masks.append(blobs == blob)\n",
    "            print((blobs == blob).sum())\n",
    "        # convert into single mask and get intersection\n",
    "        blob_union = np.logical_or.reduce(blob_masks)\n",
    "        # get intersection adn union\n",
    "        union = np.logical_or(blob_union, shape_mask).sum()\n",
    "        intersection = np.logical_and(blob_union, shape_mask).sum()\n",
    "        print(intersection)\n",
    "\n",
    "        running_iou += intersection / union\n",
    "    \n",
    "    print(running_iou)\n",
    "    "
   ]
  },
  {
   "cell_type": "code",
   "execution_count": null,
   "id": "bdbd94b4-7938-4d42-92dc-105834b8f9a8",
   "metadata": {},
   "outputs": [],
   "source": [
    "from helpers import haven_viz\n",
    "img_src = haven_viz.get_image(images.cpu(), denorm=\"rgb\")\n",
    "y_list, x_list = np.where(points_numpy.squeeze())\n",
    "\n",
    "imagesl = []\n",
    "for blob in point_blobs:\n",
    "    if blob == 0:\n",
    "        continue\n",
    "    blob_mask = blobs==blob\n",
    "    pred_img = haven_viz.mask_on_image(img_src, blob_mask.squeeze()))\n",
    "    \n",
    "\n",
    "img_labels = haven_viz.points_on_image(y_list, x_list, img_src)\n",
    "img_pred = haven_viz.mask_on_image(img_src, blobs.squeeze())\n",
    "img_pred_shape = haven_viz.mask_on_image(img_src, np.array(img).squeeze())\n",
    "\n",
    "stitched_image = np.hstack([img_labels, img_pred, img_pred_shape])\n",
    "stitched_image2 = np.hstack(imagesl)\n",
    "haven_viz.save_image('test.jpg', stitched_image)\n",
    "haven_viz.save_image('test2.jpg', stitched_image2)"
   ]
  },
  {
   "cell_type": "code",
   "execution_count": null,
   "id": "2b1df888-13e1-4a37-b6aa-cb7b2b1b47b5",
   "metadata": {},
   "outputs": [],
   "source": [
    "one = np.array([[0, 1, 0], [0, 1, 0]]) ==1\n",
    "two = np.array([[0, 1, 0], [0, 1, 0]]) == 1\n",
    "three = np.array([[1, 0, 1], [0, 1, 0]]) == 1"
   ]
  },
  {
   "cell_type": "code",
   "execution_count": null,
   "id": "6947c529-5499-43c7-9faa-b50aa0cea5e6",
   "metadata": {},
   "outputs": [],
   "source": [
    "np.logical_or.reduce([three, two])"
   ]
  },
  {
   "cell_type": "code",
   "execution_count": null,
   "id": "8374f616-3cce-4677-93d2-560a5f4a59cd",
   "metadata": {},
   "outputs": [],
   "source": []
  }
 ],
 "metadata": {
  "kernelspec": {
   "display_name": "Python 3",
   "language": "python",
   "name": "python3"
  },
  "language_info": {
   "codemirror_mode": {
    "name": "ipython",
    "version": 3
   },
   "file_extension": ".py",
   "mimetype": "text/x-python",
   "name": "python",
   "nbconvert_exporter": "python",
   "pygments_lexer": "ipython3",
   "version": "3.8.5"
  }
 },
 "nbformat": 4,
 "nbformat_minor": 5
}
