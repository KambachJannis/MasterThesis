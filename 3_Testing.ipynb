{
 "cells": [
  {
   "cell_type": "code",
   "execution_count": 1,
   "id": "9d6b4323-6e11-4066-9d1b-438f2d4c7022",
   "metadata": {},
   "outputs": [],
   "source": [
    "# Torch\n",
    "import torch\n",
    "from torch.utils.data import DataLoader\n",
    "from torch.utils.data.sampler import RandomSampler\n",
    "# Data Handling\n",
    "import numpy as np\n",
    "import pandas as pd\n",
    "# System\n",
    "import os\n",
    "import pprint\n",
    "import itertools\n",
    "# Custom\n",
    "import models\n",
    "import datasets\n",
    "from helpers import utils"
   ]
  },
  {
   "cell_type": "code",
   "execution_count": 7,
   "id": "4fd0f3cf-96d2-4e4f-9ef2-a5f723b4f5a5",
   "metadata": {},
   "outputs": [
    {
     "name": "stdout",
     "output_type": "stream",
     "text": [
      "{'batch_size': 1,\n",
      " 'dataset': {'name': 'denmark', 'transform': 'rgb_normalize'},\n",
      " 'dataset_size': {'train': 'all', 'val': 'all'},\n",
      " 'lr': 1e-05,\n",
      " 'max_epoch': 5,\n",
      " 'model': {'base': 'fcn8_vgg16', 'name': 'lcfcn'},\n",
      " 'optimizer': 'adam'}\n"
     ]
    }
   ],
   "source": [
    "########################## FILE SYSTEM SETTINGS ###########################\n",
    "\n",
    "savedir_base = \"/home/jovyan/work/runs/LCFCN\"\n",
    "datadir = \"/home/jovyan/work/DENMARK/250x250\"\n",
    "\n",
    "####################### EXPERIMENT SETTINGS ################################\n",
    "\n",
    "experiment_id = \"d1efb632350537a1a2af171808903f4a\"\n",
    "run_path = os.path.join(savedir_base, experiment_id)\n",
    "exp_dict = utils.loadJSON(os.path.join(run_path, 'exp_dict.json'))\n",
    "\n",
    "pprint.pprint(exp_dict)"
   ]
  },
  {
   "cell_type": "code",
   "execution_count": 8,
   "id": "7d01c7b7-38a0-48db-a414-89490410a67c",
   "metadata": {},
   "outputs": [],
   "source": [
    "dataset_size = {'test': 10}\n",
    "batch_size = 1\n",
    "\n",
    "test_set = datasets.getDataset(dataset = exp_dict[\"dataset\"][\"name\"],\n",
    "                               split = \"test\",\n",
    "                               datadir = datadir,\n",
    "                               transform = exp_dict['dataset']['transform'],\n",
    "                               dataset_size = dataset_size)\n",
    "\n",
    "test_sampler = torch.utils.data.SequentialSampler(test_set)\n",
    "\n",
    "test_loader = DataLoader(test_set,\n",
    "                         sampler = test_sampler,\n",
    "                         batch_size = batch_size,\n",
    "                         num_workers = 2)\n",
    "\n",
    "print(\"Testing Data loaded...\")"
   ]
  },
  {
   "cell_type": "code",
   "execution_count": 9,
   "id": "07d3bd7f-34c7-4dcf-a832-b7271438b3e5",
   "metadata": {},
   "outputs": [],
   "source": [
    "n_classes = test_set.n_classes\n",
    "model = models.getModel(exp_dict, n_classes).cuda()\n",
    "\n",
    "run_model = utils.loadTorch(os.path.join(run_path, 'model_best.pth'))\n",
    "model.loadStateDict(run_model)\n",
    "\n",
    "print(\"Model loaded...\")"
   ]
  },
  {
   "cell_type": "code",
   "execution_count": null,
   "id": "f35cde59-da57-4b0c-a5e5-208ba2ca26ca",
   "metadata": {},
   "outputs": [],
   "source": []
  }
 ],
 "metadata": {
  "kernelspec": {
   "display_name": "Python 3",
   "language": "python",
   "name": "python3"
  },
  "language_info": {
   "codemirror_mode": {
    "name": "ipython",
    "version": 3
   },
   "file_extension": ".py",
   "mimetype": "text/x-python",
   "name": "python",
   "nbconvert_exporter": "python",
   "pygments_lexer": "ipython3",
   "version": "3.8.5"
  }
 },
 "nbformat": 4,
 "nbformat_minor": 5
}
