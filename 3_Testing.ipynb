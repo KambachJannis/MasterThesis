{
 "cells": [
  {
   "cell_type": "code",
   "execution_count": 1,
   "id": "9d6b4323-6e11-4066-9d1b-438f2d4c7022",
   "metadata": {},
   "outputs": [],
   "source": [
    "# Torch\n",
    "import torch\n",
    "from torch.utils.data import DataLoader\n",
    "from torch.utils.data.sampler import RandomSampler\n",
    "# Data Handling\n",
    "import numpy as np\n",
    "import pandas as pd\n",
    "# System\n",
    "import os\n",
    "import pprint\n",
    "import itertools\n",
    "# Custom\n",
    "import models\n",
    "import datasets\n",
    "from helpers import utils"
   ]
  },
  {
   "cell_type": "code",
   "execution_count": 2,
   "id": "aafa0b3e-ee98-4636-a69a-9877a693092e",
   "metadata": {},
   "outputs": [
    {
     "name": "stdout",
     "output_type": "stream",
     "text": [
      "{'batch_size': 1,\n",
      " 'dataset': {'name': 'denmark', 'transform': 'rgb_normalize'},\n",
      " 'dataset_size': {'test': 10},\n",
      " 'model': {'base': 'fcn8_vgg16', 'name': 'lcfcn'}}\n"
     ]
    }
   ],
   "source": [
    "########################## FILE SYSTEM SETTINGS ###########################\n",
    "\n",
    "savedir_base = \"/home/jovyan/work/runs/LCFCN\"\n",
    "datadir = \"/home/jovyan/work/DENMARK/250x250\"\n",
    "\n",
    "####################### EXPERIMENT SETTINGS ################################\n",
    "EXP_GROUPS = {}\n",
    "\n",
    "EXP_GROUPS['denmark'] = {\"dataset\": {'name': 'denmark', 'transform': 'rgb_normalize'},\n",
    "                         \"model\": {'name': 'lcfcn', 'base': \"fcn8_vgg16\"},\n",
    "                         \"batch_size\": 1,\n",
    "                         \"dataset_size\": {'test': 'all'}}\n",
    "\n",
    "EXP_GROUPS['denmark_debug'] = {\"dataset\": {'name': 'denmark', 'transform': 'rgb_normalize'},\n",
    "                               \"model\": {'name': 'lcfcn', 'base': \"fcn8_vgg16\"},\n",
    "                               \"batch_size\": 1,\n",
    "                               \"dataset_size\": {'test': 10}}\n",
    "\n",
    "EXP_GROUPS['denmark_debug_cob'] = {\"dataset\": {'name': 'denmark', 'transform': 'rgb_normalize'},\n",
    "                                   \"model\": {'name': 'cob', 'base': \"fcn8_vgg16\"},\n",
    "                                   \"batch_size\": 1,\n",
    "                                   \"dataset_size\": {'test': 10}}\n",
    "\n",
    "############################### SELECT EXPERIMENT ####################################\n",
    "\n",
    "exp_dict = EXP_GROUPS['denmark_debug']\n",
    "pprint.pprint(exp_dict)"
   ]
  },
  {
   "cell_type": "code",
   "execution_count": 3,
   "id": "7d01c7b7-38a0-48db-a414-89490410a67c",
   "metadata": {},
   "outputs": [],
   "source": [
    "test_set = datasets.getDataset(dataset = exp_dict[\"dataset\"][\"name\"],\n",
    "                               split = \"test\",\n",
    "                               datadir = datadir,\n",
    "                               transform = exp_dict['dataset']['transform'],\n",
    "                               dataset_size = exp_dict['dataset_size'])\n",
    "\n",
    "test_sampler = torch.utils.data.SequentialSampler(test_set)\n",
    "\n",
    "test_loader = DataLoader(test_set,\n",
    "                         sampler = test_sampler,\n",
    "                         batch_size = exp_dict[\"batch_size\"],\n",
    "                         num_workers = 2)"
   ]
  },
  {
   "cell_type": "code",
   "execution_count": 4,
   "id": "07d3bd7f-34c7-4dcf-a832-b7271438b3e5",
   "metadata": {},
   "outputs": [],
   "source": [
    "n_classes = test_set.n_classes\n",
    "model = models.getModel(exp_dict, n_classes).cuda()"
   ]
  },
  {
   "cell_type": "code",
   "execution_count": null,
   "id": "928426b8-7f1a-47aa-906d-a2df8487e004",
   "metadata": {},
   "outputs": [],
   "source": []
  }
 ],
 "metadata": {
  "kernelspec": {
   "display_name": "Python 3",
   "language": "python",
   "name": "python3"
  },
  "language_info": {
   "codemirror_mode": {
    "name": "ipython",
    "version": 3
   },
   "file_extension": ".py",
   "mimetype": "text/x-python",
   "name": "python",
   "nbconvert_exporter": "python",
   "pygments_lexer": "ipython3",
   "version": "3.8.5"
  }
 },
 "nbformat": 4,
 "nbformat_minor": 5
}
