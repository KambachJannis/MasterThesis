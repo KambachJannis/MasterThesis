{
 "cells": [
  {
   "cell_type": "code",
   "execution_count": null,
   "id": "eb848006-9b2f-4db6-b62b-ac85e894e1d5",
   "metadata": {},
   "outputs": [],
   "source": [
    "import matlab.engine"
   ]
  },
  {
   "cell_type": "code",
   "execution_count": null,
   "id": "67c61611-474a-4d80-9759-03f769cd9b9b",
   "metadata": {},
   "outputs": [],
   "source": [
    "eng = matlab.engine.start_matlab()"
   ]
  },
  {
   "cell_type": "code",
   "execution_count": null,
   "id": "3b025617-720b-4921-8b60-a82c915bb3bb",
   "metadata": {},
   "outputs": [],
   "source": [
    "eng.addpath('/home/jovyan/work/ma/helpers/objectness', nargout=0)\n",
    "eng.addpath('/home/jovyan/work/ma/helpers/objectness/pff_segment')"
   ]
  },
  {
   "cell_type": "code",
   "execution_count": null,
   "id": "05bac4a8-b346-44f8-afe3-f414479614c2",
   "metadata": {},
   "outputs": [],
   "source": [
    "import numpy as np\n",
    "import torch"
   ]
  },
  {
   "cell_type": "code",
   "execution_count": null,
   "id": "d6235c59-f386-446e-8eae-849ac9c28a38",
   "metadata": {},
   "outputs": [],
   "source": [
    "a = np.asarray(eng.getHeatMap('002053.jpg'))"
   ]
  },
  {
   "cell_type": "code",
   "execution_count": null,
   "id": "71b754f8-28f0-463a-9da7-3b9ee0a5ad61",
   "metadata": {},
   "outputs": [],
   "source": [
    "data_tf = torch.tensor(a[:,:,2:])"
   ]
  },
  {
   "cell_type": "code",
   "execution_count": null,
   "id": "9c680d1d-c007-48b8-8e66-b2728065000f",
   "metadata": {},
   "outputs": [],
   "source": [
    "eng.demo(nargout=0)"
   ]
  },
  {
   "cell_type": "code",
   "execution_count": null,
   "id": "55657984-41a6-4385-9864-3dc43bb58f38",
   "metadata": {},
   "outputs": [],
   "source": [
    "eng.quit()"
   ]
  },
  {
   "cell_type": "code",
   "execution_count": null,
   "id": "efe3e558-d9a8-4c6b-a6fc-35fa568071af",
   "metadata": {},
   "outputs": [],
   "source": []
  },
  {
   "cell_type": "code",
   "execution_count": null,
   "id": "3e712e41-4a34-40de-904b-1b3a2b733fbd",
   "metadata": {},
   "outputs": [],
   "source": []
  }
 ],
 "metadata": {
  "kernelspec": {
   "display_name": "Python 3",
   "language": "python",
   "name": "python3"
  },
  "language_info": {
   "codemirror_mode": {
    "name": "ipython",
    "version": 3
   },
   "file_extension": ".py",
   "mimetype": "text/x-python",
   "name": "python",
   "nbconvert_exporter": "python",
   "pygments_lexer": "ipython3",
   "version": "3.8.5"
  }
 },
 "nbformat": 4,
 "nbformat_minor": 5
}
